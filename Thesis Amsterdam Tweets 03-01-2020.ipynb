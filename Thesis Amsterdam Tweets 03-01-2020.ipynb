{
 "cells": [
  {
   "cell_type": "code",
   "execution_count": null,
   "metadata": {},
   "outputs": [],
   "source": [
    "import numpy as np\n",
    "import geopandas\n",
    "import matplotlib\n",
    "import matplotlib.ticker as plticker\n",
    "import pandas as pd\n",
    "import json\n",
    "import contextily\n",
    "import matplotlib.pyplot as plt\n",
    "import geoplot\n",
    "import seaborn as sns\n",
    "import datetime\n",
    "import csv\n",
    "\n",
    "from vaderSentiment.vaderSentiment import SentimentIntensityAnalyzer\n",
    "from shapely.geometry import Polygon, Point"
   ]
  },
  {
   "cell_type": "markdown",
   "metadata": {},
   "source": [
    "### Data inspection & cleaning"
   ]
  },
  {
   "cell_type": "code",
   "execution_count": null,
   "metadata": {
    "scrolled": true
   },
   "outputs": [],
   "source": [
    "#for desktop\n",
    "#df = pd.read_csv(r'C:\\Users\\Ray\\Desktop\\TweetsAmsterdamWithLanguage.csv', encoding = 'latin1', sep = ',')"
   ]
  },
  {
   "cell_type": "code",
   "execution_count": null,
   "metadata": {},
   "outputs": [],
   "source": [
    "#for laptop\n",
    "df = pd.read_csv(r'C:\\Users\\raymo\\Downloads\\AmsterdamWithLanguage.csv', encoding = 'latin1', sep = ',')"
   ]
  },
  {
   "cell_type": "code",
   "execution_count": null,
   "metadata": {
    "scrolled": true
   },
   "outputs": [],
   "source": [
    "df.info()"
   ]
  },
  {
   "cell_type": "code",
   "execution_count": null,
   "metadata": {
    "scrolled": true
   },
   "outputs": [],
   "source": [
    "df.head(3)"
   ]
  },
  {
   "cell_type": "code",
   "execution_count": null,
   "metadata": {
    "scrolled": false
   },
   "outputs": [],
   "source": [
    "df.tail(3)"
   ]
  },
  {
   "cell_type": "markdown",
   "metadata": {},
   "source": [
    "### Data transformation and descriptive statistics"
   ]
  },
  {
   "cell_type": "code",
   "execution_count": null,
   "metadata": {},
   "outputs": [],
   "source": [
    "df['created_at'] = pd.to_datetime(df['created_at'], format='%a %b %d %H:%M:%S +0000 %Y')"
   ]
  },
  {
   "cell_type": "code",
   "execution_count": null,
   "metadata": {},
   "outputs": [],
   "source": [
    "### transform from GMT to UTC by adding one hour\n",
    "df['created_at'] = df['created_at'] + datetime.timedelta(hours=1)"
   ]
  },
  {
   "cell_type": "code",
   "execution_count": null,
   "metadata": {},
   "outputs": [],
   "source": [
    "#remove 2011 and 2019 from dataframe\n",
    "start_date = '01-01-2012'\n",
    "end_date = '01-01-2019'\n",
    "mask = (df['created_at'] >= start_date) & (df['created_at'] < end_date)\n",
    "df = df.loc[mask]"
   ]
  },
  {
   "cell_type": "code",
   "execution_count": null,
   "metadata": {},
   "outputs": [],
   "source": [
    "df.head()"
   ]
  },
  {
   "cell_type": "code",
   "execution_count": null,
   "metadata": {
    "scrolled": true
   },
   "outputs": [],
   "source": [
    "df.tail()"
   ]
  },
  {
   "cell_type": "code",
   "execution_count": null,
   "metadata": {
    "scrolled": true
   },
   "outputs": [],
   "source": [
    "df.info()"
   ]
  },
  {
   "cell_type": "code",
   "execution_count": null,
   "metadata": {},
   "outputs": [],
   "source": [
    "#Delete bots"
   ]
  },
  {
   "cell_type": "code",
   "execution_count": null,
   "metadata": {},
   "outputs": [],
   "source": [
    "df['user_id'].value_counts()"
   ]
  },
  {
   "cell_type": "code",
   "execution_count": null,
   "metadata": {},
   "outputs": [],
   "source": [
    "df[df.user_name == 'Sol Tempore'].head()"
   ]
  },
  {
   "cell_type": "code",
   "execution_count": null,
   "metadata": {},
   "outputs": [],
   "source": [
    "### Manually inspect user ids for bots\n",
    "df[df.user_id ==215292728].head(10)\n"
   ]
  },
  {
   "cell_type": "code",
   "execution_count": null,
   "metadata": {},
   "outputs": [],
   "source": [
    "#delete user_ids which are bots\n",
    "df = df[(df.user_id !=272419626) & (df.user_id !=186899860) & (df.user_id !=550261599) & (df.user_id !=291158798) \n",
    "        &(df.user_id !=19140633) &(df.user_id !=278708054) &(df.user_id !=3375579785) &(df.user_id !=208056970) & \n",
    "        (df.user_id !=88039815) & (df.user_id !=168489388 ) & (df.user_id !=191092262) & (df.user_id !=215292728)]\n"
   ]
  },
  {
   "cell_type": "code",
   "execution_count": null,
   "metadata": {},
   "outputs": [],
   "source": [
    "df"
   ]
  },
  {
   "cell_type": "code",
   "execution_count": null,
   "metadata": {},
   "outputs": [],
   "source": [
    "#Drop duplicates"
   ]
  },
  {
   "cell_type": "code",
   "execution_count": null,
   "metadata": {},
   "outputs": [],
   "source": [
    "df['id'].value_counts()"
   ]
  },
  {
   "cell_type": "code",
   "execution_count": null,
   "metadata": {},
   "outputs": [],
   "source": [
    "df = df.drop_duplicates(subset='id', keep=\"first\")"
   ]
  },
  {
   "cell_type": "code",
   "execution_count": null,
   "metadata": {},
   "outputs": [],
   "source": [
    "df.count()"
   ]
  },
  {
   "cell_type": "code",
   "execution_count": null,
   "metadata": {},
   "outputs": [],
   "source": [
    "df.info()"
   ]
  },
  {
   "cell_type": "code",
   "execution_count": null,
   "metadata": {},
   "outputs": [],
   "source": [
    "#Continue with dates"
   ]
  },
  {
   "cell_type": "code",
   "execution_count": null,
   "metadata": {
    "scrolled": true
   },
   "outputs": [],
   "source": [
    "def get_day_of_week(day):\n",
    "    weekdays = {\n",
    "        0: 'Monday',\n",
    "        1: 'Tuesday',\n",
    "        2: 'Wednesday',\n",
    "        3: 'Thursday',\n",
    "        4: 'Friday',\n",
    "        5: 'Saturday',\n",
    "        6: 'Sunday'\n",
    "    }\n",
    "    return weekdays[day]\n",
    "\n",
    "def get_season(month):\n",
    "    months = {\n",
    "        1: 'Winter',\n",
    "        2: 'Winter',\n",
    "        3: 'Spring',\n",
    "        4: 'Spring',\n",
    "        5: 'Spring',\n",
    "        6: 'Summer',\n",
    "        7: 'Summer',\n",
    "        8: 'Summer',\n",
    "        9: 'Autumn',\n",
    "        10: 'Autumn',\n",
    "        11: 'Autumn',\n",
    "        12: 'Winter',\n",
    "    }\n",
    "    \n",
    "    return months[month]\n",
    "\n",
    "df['Year'] = df.created_at.dt.year\n",
    "df['Month'] = df.created_at.dt.month\n",
    "df['Day'] = df.created_at.dt.day\n",
    "df['just_date'] = df['created_at'].dt.date\n",
    "df['Hour'] = df.created_at.dt.hour\n",
    "df['DayOfWeek_nr'] = df.created_at.dt.dayofweek\n",
    "df['DayOfWeek'] = df.created_at.dt.dayofweek.apply(lambda x: get_day_of_week(x))\n",
    "df['YearMonth'] = pd.to_datetime(df['created_at']).dt.to_period('M')\n",
    "df['Season'] = df.Month.apply(get_season)"
   ]
  },
  {
   "cell_type": "code",
   "execution_count": null,
   "metadata": {
    "scrolled": true
   },
   "outputs": [],
   "source": [
    "#start_date = '09-01-2013'\n",
    "#end_date = '09-08-2013'\n",
    "#mask = (df['created_at'] > start_date) & (df['created_at'] <= end_date)\n",
    "#df2 = df.loc[mask]\n",
    "#df2.id = df.id.astype(str)\n",
    "#df2.id_str = df.id_str.astype(str)\n",
    "#df2.to_csv(r'C:\\Users\\raymo\\Downloads\\AmsterdamSeptember2013-09-01.csv', index=False, quotechar='\"', quoting=csv.QUOTE_NONNUMERIC)\n",
    "#df2.info()\n"
   ]
  },
  {
   "cell_type": "code",
   "execution_count": null,
   "metadata": {},
   "outputs": [],
   "source": [
    "df[\n",
    "    (~df.language.isna())\n",
    "    &\n",
    "    (df.Year == 2013)\n",
    "    &\n",
    "    (df.Month > 1)\n",
    "    &\n",
    "    (df.Month < 4)\n",
    "].created_at.dt.date.value_counts().reset_index().sort_values(by='index')\n",
    "#highlights that language data is missin between 08-02-2013 and 26-03-2013"
   ]
  },
  {
   "cell_type": "code",
   "execution_count": null,
   "metadata": {
    "scrolled": true
   },
   "outputs": [],
   "source": [
    "#only to set style for matplotlib plots\n",
    "sns.scatterplot(x='Hour',y='created_at',data=df)\n",
    "sns.set(style=\"darkgrid\")\n",
    "#plt.show()"
   ]
  },
  {
   "cell_type": "code",
   "execution_count": null,
   "metadata": {
    "scrolled": true
   },
   "outputs": [],
   "source": [
    "df.groupby('Hour').agg({'id':'count'}).rename(columns={'id':'Tweets per hour'}).plot(title = 'Distribution of tweets per hour', kind = 'bar', color = 'royalblue', legend = None)\n",
    "plt.xlabel('Hour')\n",
    "plt.ylabel('Number of Tweets')\n",
    "plt.tight_layout()\n",
    "plt.savefig('Distribution of tweets per hour')\n",
    "plt.show()\n"
   ]
  },
  {
   "cell_type": "code",
   "execution_count": null,
   "metadata": {
    "scrolled": true
   },
   "outputs": [],
   "source": [
    "df"
   ]
  },
  {
   "cell_type": "code",
   "execution_count": null,
   "metadata": {},
   "outputs": [],
   "source": [
    "df.info()"
   ]
  },
  {
   "cell_type": "code",
   "execution_count": null,
   "metadata": {},
   "outputs": [],
   "source": [
    "#df = df.reset_index()\n",
    "#df = df.set_index(['created_at'])\n",
    "df['just_date'] = pd.to_datetime(df['just_date'])\n",
    "df.groupby(pd.Grouper(key='just_date', freq='W')).agg({'user_id' : 'count'}).plot(figsize = (20, 10), legend = None)\n",
    "#df = df.reset_index()"
   ]
  },
  {
   "cell_type": "code",
   "execution_count": null,
   "metadata": {
    "scrolled": true
   },
   "outputs": [],
   "source": [
    "df.groupby('Year').agg({'id':'count'}).rename(columns={'id':'Tweets per year'}).plot(title = 'Distribution of tweets per year', kind = 'bar', color = 'royalblue', legend = None)\n",
    "plt.ylabel('Number of Tweets')\n",
    "plt.tight_layout()\n",
    "plt.savefig('Distribution of tweets per year')\n",
    "plt.show()"
   ]
  },
  {
   "cell_type": "code",
   "execution_count": null,
   "metadata": {
    "scrolled": true
   },
   "outputs": [],
   "source": [
    "ax = df.groupby('DayOfWeek_nr').agg({'id':'count'}).plot(title = 'Distribution of tweets per day of the week', kind = 'bar', color = 'royalblue', legend = None)\n",
    "plt.xlabel('Weekday')\n",
    "plt.ylabel('Number of Tweets')\n",
    "ax.set_xticklabels(['Monday','Tuesday','Wednesday','Thursday','Friday','Saturday','Sunday'])\n",
    "plt.tight_layout()\n",
    "plt.savefig('Distribution of tweets per day of the week')\n",
    "plt.show()"
   ]
  },
  {
   "cell_type": "code",
   "execution_count": null,
   "metadata": {},
   "outputs": [],
   "source": [
    "ax = df.groupby('Month').agg({'id':'count'}).plot(title = 'Distribution of tweets per month', kind = 'bar', color = 'royalblue', legend = None)\n",
    "plt.xlabel('Month')\n",
    "plt.ylabel('Number of Tweets')\n",
    "ax.set_xticklabels(['January','February','March','April','May','June','July', 'August', 'September', 'October', 'November', 'December'])\n",
    "plt.tight_layout()\n",
    "plt.savefig('Distribution of tweets per month')\n",
    "plt.show()"
   ]
  },
  {
   "cell_type": "code",
   "execution_count": null,
   "metadata": {},
   "outputs": [],
   "source": [
    "ax = df.groupby('Season').agg({'id':'count'}).plot(title = 'Distribution of tweets per season', kind = 'bar', color = 'royalblue', legend = None)\n",
    "plt.xlabel('Season')\n",
    "plt.ylabel('Number of Tweets')\n",
    "plt.tight_layout()\n",
    "plt.savefig('Distribution of tweets per Season')\n",
    "plt.show()"
   ]
  },
  {
   "cell_type": "markdown",
   "metadata": {},
   "source": [
    "### Distinguish tourists from residents"
   ]
  },
  {
   "cell_type": "code",
   "execution_count": null,
   "metadata": {},
   "outputs": [],
   "source": [
    "user_date_ranges_df = df.groupby('user_id').agg({\n",
    "    'created_at': ['min','max'],\n",
    "    'tweet_text': ['count']\n",
    "}).reset_index()\n",
    "\n",
    "# time difference from first tweet to last tweet\n",
    "user_date_ranges_df['diff'] = user_date_ranges_df['created_at']['max'] - user_date_ranges_df['created_at']['min']\n",
    "\n",
    "user_date_ranges_df.columns = ['user_id','min','max','count','diff']\n",
    "user_date_ranges_df = user_date_ranges_df.drop(columns=['min','max'])\n",
    "\n",
    "# average number of tweets per day\n",
    "user_date_ranges_df['freq'] = user_date_ranges_df['count'] / (user_date_ranges_df['diff'].dt.days)\n",
    "user_date_ranges_df['freq'].replace(np.inf, 0, inplace=True)"
   ]
  },
  {
   "cell_type": "code",
   "execution_count": null,
   "metadata": {
    "scrolled": true
   },
   "outputs": [],
   "source": [
    "df_merged = df.merge(user_date_ranges_df, how='left', on='user_id')"
   ]
  },
  {
   "cell_type": "code",
   "execution_count": null,
   "metadata": {},
   "outputs": [],
   "source": [
    "df_merged.sample(5)"
   ]
  },
  {
   "cell_type": "code",
   "execution_count": null,
   "metadata": {},
   "outputs": [],
   "source": [
    "df_merged['is_tourist'] = (df_merged['diff'] < pd.Timedelta('14 days'))"
   ]
  },
  {
   "cell_type": "code",
   "execution_count": null,
   "metadata": {},
   "outputs": [],
   "source": [
    "df_tourist = df_merged[df_merged.is_tourist == True]\n",
    "df_not_tourist = df_merged[df_merged.is_tourist == False]"
   ]
  },
  {
   "cell_type": "code",
   "execution_count": null,
   "metadata": {},
   "outputs": [],
   "source": [
    "df_tourist.info()"
   ]
  },
  {
   "cell_type": "code",
   "execution_count": null,
   "metadata": {},
   "outputs": [],
   "source": [
    "# Also create dataset with ENG only for sentiment analysis (from 2013 onwards since language was added in this period)\n",
    "df_tourist_en = df_tourist[df_tourist.language == 'en']\n",
    "start_date = '01-01-2013'\n",
    "end_date = '01-01-2019'\n",
    "mask = (df_tourist_en['created_at'] >= start_date) & (df_tourist_en['created_at'] < end_date)\n",
    "df_tourist_en = df_tourist_en.loc[mask]\n",
    "#df_tourist_en.to_csv(r'C:\\Users\\raymo\\Downloads\\df_tourist_en.csv', index=False, quotechar='\"', quoting=csv.QUOTE_NONNUMERIC)"
   ]
  },
  {
   "cell_type": "markdown",
   "metadata": {},
   "source": [
    "### Sentiment Analysis"
   ]
  },
  {
   "cell_type": "code",
   "execution_count": null,
   "metadata": {},
   "outputs": [],
   "source": [
    "%%capture\n",
    "analyser = SentimentIntensityAnalyzer()\n",
    "df_tourist_en['neg'], df_tourist_en['neu'], df_tourist_en['pos'], df_tourist_en['compound'] = zip(\n",
    "    *df_tourist_en['tweet_text'].apply(\n",
    "        lambda x: list(analyser.polarity_scores(x).values())\n",
    "    )\n",
    ")"
   ]
  },
  {
   "cell_type": "code",
   "execution_count": null,
   "metadata": {},
   "outputs": [],
   "source": [
    "def get_sentiment_label(compound):\n",
    "    if(compound >= 0.05):\n",
    "        return 'pos'\n",
    "    elif(compound <= -0.05):\n",
    "        return 'neg'\n",
    "    else:\n",
    "        return 'neu'\n",
    "\n",
    "df_tourist_en['polarity'] = df_tourist_en['compound'].apply(lambda x: get_sentiment_label(x))"
   ]
  },
  {
   "cell_type": "code",
   "execution_count": null,
   "metadata": {
    "scrolled": true
   },
   "outputs": [],
   "source": [
    "df_tourist_en.polarity.value_counts()"
   ]
  },
  {
   "cell_type": "code",
   "execution_count": null,
   "metadata": {
    "scrolled": true
   },
   "outputs": [],
   "source": [
    "df_tourist_en['polarity'].astype(str)"
   ]
  },
  {
   "cell_type": "code",
   "execution_count": null,
   "metadata": {
    "scrolled": false
   },
   "outputs": [],
   "source": [
    "data_perc = df_tourist_en.groupby(pd.Grouper(key='just_date', freq='W')).agg({'neg': 'mean', 'neu': 'mean', 'pos': 'mean'})*100\n",
    "data_perc.columns = ['perc. of negative tweets', 'perc. of neutral tweets', 'perc. of positive tweets']\n",
    "data_perc.divide(data_perc.sum(axis=1), axis=0)\n",
    "ax = data_perc.plot(figsize = (10,5))\n",
    "ax.set_ylim(0,100)\n",
    "plt.xlabel('Years')\n",
    "plt.ylabel('Percentage')\n",
    "plt.tight_layout()\n",
    "plt.savefig('Day of year sentiment patterns')\n"
   ]
  },
  {
   "cell_type": "code",
   "execution_count": null,
   "metadata": {},
   "outputs": [],
   "source": [
    "df_tourist_en = df_tourist_en[(df_tourist_en.user_id !=2463424754)]\n",
    "by_day_sentiment = df_tourist_en.groupby([pd.Grouper(key='created_at', freq='D'), 'polarity']) \\\n",
    "    .size().unstack('polarity')"
   ]
  },
  {
   "cell_type": "code",
   "execution_count": null,
   "metadata": {},
   "outputs": [],
   "source": [
    "by_day_sentiment.nlargest(10, ['pos'])"
   ]
  },
  {
   "cell_type": "code",
   "execution_count": null,
   "metadata": {},
   "outputs": [],
   "source": []
  },
  {
   "cell_type": "code",
   "execution_count": null,
   "metadata": {
    "scrolled": true
   },
   "outputs": [],
   "source": [
    "data_perc = df_tourist_en.groupby(pd.Grouper(key='just_date', freq='D')).agg({'neg': 'mean', 'neu': 'mean', 'pos': 'mean'})*100\n",
    "data_perc.columns = ['neg', 'neu', 'pos']\n",
    "data_perc.divide(data_perc.sum(axis=1), axis=0)\n",
    "ax = data_perc.plot(figsize = (20,10))\n",
    "ax.set_ylim(0,100)\n",
    "\n",
    "#plt.stackplot(data_perc[\"neg\"],  data_perc[\"neu\"],  data_perc[\"pos\"], labels=['neg','neu','pos'])"
   ]
  },
  {
   "cell_type": "code",
   "execution_count": null,
   "metadata": {},
   "outputs": [],
   "source": [
    "df_tourist_en.reset_index(inplace=True)\n",
    "df_tourist_en = df_tourist_en[(df_tourist_en.user_id !=2463424754)]\n",
    "by_day_sentiment = df_tourist_en.groupby([pd.Grouper(key='created_at', freq='D'), 'polarity']) \\\n",
    "    .size().unstack('polarity')"
   ]
  },
  {
   "cell_type": "code",
   "execution_count": null,
   "metadata": {
    "scrolled": false
   },
   "outputs": [],
   "source": [
    "by_day_sentiment.plot(figsize=(20, 10))\n",
    "plt.xlabel('Years')\n",
    "plt.ylabel('Polarity counts')\n",
    "plt.tight_layout()\n",
    "plt.savefig('Initial sentiment distribution')\n",
    "plt.show()"
   ]
  },
  {
   "cell_type": "code",
   "execution_count": null,
   "metadata": {},
   "outputs": [],
   "source": []
  },
  {
   "cell_type": "code",
   "execution_count": null,
   "metadata": {
    "scrolled": true
   },
   "outputs": [],
   "source": [
    "by_day_sentiment.nlargest(10, ['pos'])"
   ]
  },
  {
   "cell_type": "code",
   "execution_count": null,
   "metadata": {},
   "outputs": [],
   "source": [
    "#Check messages on certain days\n",
    "df_tourist_en = df_tourist_en.set_index(['created_at'])\n",
    "df_tourist_en.loc['2014-02-08']\n"
   ]
  },
  {
   "cell_type": "code",
   "execution_count": null,
   "metadata": {},
   "outputs": [],
   "source": [
    "#reset index\n",
    "df_tourist_en.reset_index(inplace = True)"
   ]
  },
  {
   "cell_type": "code",
   "execution_count": null,
   "metadata": {},
   "outputs": [],
   "source": [
    "#exclude neutral \n",
    "#df_tourist_en = df_tourist_en.loc[df_tourist_en['polarity'] != 'neu']"
   ]
  },
  {
   "cell_type": "code",
   "execution_count": null,
   "metadata": {},
   "outputs": [],
   "source": [
    "df_tourist_en"
   ]
  },
  {
   "cell_type": "code",
   "execution_count": null,
   "metadata": {},
   "outputs": [],
   "source": [
    "#Exclude hastag #canyoumakeit18\n",
    "df_tourist_en = df_tourist_en[~df_tourist_en.tweet_text.str.contains('#canyoumakeit18')]"
   ]
  },
  {
   "cell_type": "code",
   "execution_count": null,
   "metadata": {},
   "outputs": [],
   "source": [
    "#delete additional users who disrupt sentiment\n",
    "df_tourist_en = df_tourist_en[(df_tourist_en.user_id !=2463424754)]"
   ]
  },
  {
   "cell_type": "code",
   "execution_count": null,
   "metadata": {},
   "outputs": [],
   "source": [
    "data_perc = df_tourist_en.groupby(pd.Grouper(key='just_date', freq='D')).agg({'neg': 'mean', 'neu': 'mean', 'pos': 'mean'})*100\n",
    "data_perc.columns = ['perc. of negative tweets', 'perc. of neutral tweets', 'perc. of positive tweets']\n",
    "data_perc.divide(data_perc.sum(axis=1), axis=0)\n",
    "ax = data_perc.plot(figsize = (20,10))\n",
    "ax.set_ylim(0,100)\n",
    "plt.xlabel('Years')\n",
    "plt.ylabel('Percentage of tweets')\n",
    "plt.tight_layout()\n",
    "plt.savefig('Sentiment patterns')\n",
    "plt.show()\n"
   ]
  },
  {
   "cell_type": "code",
   "execution_count": null,
   "metadata": {
    "scrolled": false
   },
   "outputs": [],
   "source": [
    "plt.figure(figsize=(10,10))\n",
    "sns.set_style(\"whitegrid\")\n",
    "sns.set_palette(\"Blues\")\n",
    "sns.lineplot(x = 'Year', y = 'compound', data = df_tourist_en) \n",
    "plt.tight_layout()\n",
    "plt.savefig('Sentiment per season')\n",
    "\n"
   ]
  },
  {
   "cell_type": "code",
   "execution_count": null,
   "metadata": {
    "scrolled": true
   },
   "outputs": [],
   "source": [
    "df_tourist_en.groupby('Year')['compound'].mean()"
   ]
  },
  {
   "cell_type": "code",
   "execution_count": null,
   "metadata": {},
   "outputs": [],
   "source": [
    "df_tourist_en.groupby('Season')['compound'].mean()"
   ]
  },
  {
   "cell_type": "code",
   "execution_count": null,
   "metadata": {},
   "outputs": [],
   "source": [
    "df_tourist_en.boxplot(column=['compound'], by=['DayOfWeek'], figsize=(15,10))\n"
   ]
  },
  {
   "cell_type": "code",
   "execution_count": null,
   "metadata": {},
   "outputs": [],
   "source": [
    "with open('../Amsterdamlocations.json') as fname:\n",
    "    amsterdam_locations = json.load(fname)\n",
    "    \n",
    "df_tourist_en['coordinate_point'] = df_tourist_en.apply(lambda row: Point(row['latitude'], row['longitude']), axis = 1)\n",
    "\n",
    "df_tourist_en[['latitude','longitude','coordinate_point']].head()"
   ]
  },
  {
   "cell_type": "code",
   "execution_count": null,
   "metadata": {},
   "outputs": [],
   "source": [
    "%%time\n",
    "def in_location(locations, location):\n",
    "    for place_name, area in locations.items():\n",
    "        if(area['polygon'].contains(location)):\n",
    "            return place_name\n",
    "    return np.nan\n",
    "\n",
    "# create Polygons of the Areas of Interest\n",
    "for place, values in amsterdam_locations.items():\n",
    "    amsterdam_locations[place]['polygon'] = Polygon(zip(values['x'], values['y']))"
   ]
  },
  {
   "cell_type": "code",
   "execution_count": null,
   "metadata": {},
   "outputs": [],
   "source": [
    "# create categorical column where each tweet is mapped in 1 of 7 areas (or none)\n",
    "df_tourist_en['POI'] = df_tourist_en.coordinate_point.apply(\n",
    "    lambda location: in_location(\n",
    "        amsterdam_locations,\n",
    "        location\n",
    "    )\n",
    ")"
   ]
  },
  {
   "cell_type": "code",
   "execution_count": null,
   "metadata": {},
   "outputs": [],
   "source": [
    "df_tourist_en.groupby(by=['POI','Year']).id.count()"
   ]
  },
  {
   "cell_type": "code",
   "execution_count": null,
   "metadata": {},
   "outputs": [],
   "source": [
    "data = df_tourist_en.groupby(by=['POI', 'Year']).compound.mean().reset_index()\n",
    "data.set_index('Year', inplace=True)\n",
    "data.groupby(by='POI').compound.plot(legend=True, figsize=(12,8));\n",
    "plt.savefig('Sentiment per location')"
   ]
  },
  {
   "cell_type": "code",
   "execution_count": null,
   "metadata": {
    "scrolled": false
   },
   "outputs": [],
   "source": [
    "data = df_tourist_en.groupby(by=['POI', pd.Grouper(key='created_at', freq='Y')]).compound.mean().reset_index()\n",
    "data.set_index('created_at', inplace=True)\n",
    "data.groupby(by='POI').compound.plot(legend=True, figsize=(15,8));"
   ]
  },
  {
   "cell_type": "code",
   "execution_count": null,
   "metadata": {},
   "outputs": [],
   "source": [
    "data"
   ]
  },
  {
   "cell_type": "code",
   "execution_count": null,
   "metadata": {
    "scrolled": true
   },
   "outputs": [],
   "source": [
    "df_tourist_en['POI'].fillna(0, inplace=True)\n",
    "df_tourist_en.loc[df_tourist_en['POI'] != 0]"
   ]
  },
  {
   "cell_type": "code",
   "execution_count": null,
   "metadata": {},
   "outputs": [],
   "source": [
    "df_tourist_en.loc[df_tourist_en['POI'] == 'RAI']"
   ]
  },
  {
   "cell_type": "code",
   "execution_count": null,
   "metadata": {},
   "outputs": [],
   "source": [
    "df_tourist_en['POI'].value_counts()"
   ]
  },
  {
   "cell_type": "markdown",
   "metadata": {},
   "source": [
    "### Geospatial analysis"
   ]
  },
  {
   "cell_type": "code",
   "execution_count": null,
   "metadata": {
    "scrolled": false
   },
   "outputs": [],
   "source": [
    "df_tourist['type'].fillna(0, inplace=True)\n",
    "gdf = geopandas.GeoDataFrame(\n",
    "    df_tourist, geometry=geopandas.points_from_xy(df_tourist.longitude, df_tourist.latitude))"
   ]
  },
  {
   "cell_type": "code",
   "execution_count": null,
   "metadata": {},
   "outputs": [],
   "source": [
    "gdf.sample(5)"
   ]
  },
  {
   "cell_type": "code",
   "execution_count": null,
   "metadata": {
    "scrolled": true
   },
   "outputs": [],
   "source": [
    "gdf['type'].head(5)"
   ]
  },
  {
   "cell_type": "code",
   "execution_count": null,
   "metadata": {},
   "outputs": [],
   "source": [
    "gdf.crs = {'init' :'epsg:4326'}\n",
    "gdf = gdf.to_crs(epsg=3857)"
   ]
  },
  {
   "cell_type": "code",
   "execution_count": null,
   "metadata": {
    "scrolled": false
   },
   "outputs": [],
   "source": [
    "gdf.info()"
   ]
  },
  {
   "cell_type": "code",
   "execution_count": null,
   "metadata": {},
   "outputs": [],
   "source": [
    "gdf['latitude']=gdf['latitude'].astype('float')\n",
    "gdf['longitude']=gdf['longitude'].astype('float')\n",
    "gdf = gdf[gdf.latitude < 52.395] \n",
    "gdf = gdf[gdf.latitude > 52.34]\n",
    "gdf = gdf[gdf.longitude < 4.94]\n",
    "gdf = gdf[gdf.longitude > 4.85]"
   ]
  },
  {
   "cell_type": "code",
   "execution_count": null,
   "metadata": {},
   "outputs": [],
   "source": [
    "%%capture\n",
    "# %%capture ignores warnings\n",
    "gdf['Longitude'] = gdf.geometry.apply(lambda pnt: pnt.x)\n",
    "gdf['Latitude'] = gdf.geometry.apply(lambda pnt: pnt.y)"
   ]
  },
  {
   "cell_type": "code",
   "execution_count": null,
   "metadata": {
    "scrolled": true
   },
   "outputs": [],
   "source": [
    "ax = gdf.plot(figsize=(10, 10), alpha=0.5, edgecolor='k')\n",
    "contextily.add_basemap(ax, url=contextily.sources.ST_TERRAIN)"
   ]
  },
  {
   "cell_type": "code",
   "execution_count": null,
   "metadata": {},
   "outputs": [],
   "source": [
    "def plot_map(data):\n",
    "    \"\"\" Takes a GeoPandas.DataFrame as input \"\"\"\n",
    "    fig, ax = plt.subplots(1,1,figsize=(10,10))\n",
    "\n",
    "    n_levels = 1000\n",
    "    alpha_level = 0.5\n",
    "\n",
    "    sns.kdeplot(\n",
    "        data.Longitude, \n",
    "        data.Latitude,\n",
    "        bw = 'scott',\n",
    "        shade=True, \n",
    "        cmap='jet',\n",
    "        kernel='gau',\n",
    "        n_levels=n_levels,\n",
    "        ax = ax,\n",
    "        alpha=alpha_level,\n",
    "        legend = True,\n",
    "        shade_lowest = True\n",
    "        #gridsize = 200\n",
    "    )\n",
    "\n",
    "    for i in range(len(ax.collections)-10):\n",
    "        ax.collections[i].set_alpha(min(i/n_levels, alpha_level))\n",
    "\n",
    "    contextily.add_basemap(ax, url=contextily.sources.ST_TERRAIN)\n",
    "    \n",
    "    #ax.set_ylim(6863000, 6869500)\n",
    "    #ax.set_xlim(541000, 547500)\n",
    "\n",
    "    #plt.axis('off')\n",
    "    return ax"
   ]
  },
  {
   "cell_type": "markdown",
   "metadata": {},
   "source": [
    "### Draw plot by selecting year (no arguments means all)"
   ]
  },
  {
   "cell_type": "code",
   "execution_count": null,
   "metadata": {
    "scrolled": false
   },
   "outputs": [],
   "source": [
    "gdf[gdf.created_at.dt.year == 2018].latitude.value_counts()"
   ]
  },
  {
   "cell_type": "code",
   "execution_count": null,
   "metadata": {
    "scrolled": false
   },
   "outputs": [],
   "source": [
    "gdf[gdf.created_at.dt.year == 2018].longitude.value_counts()"
   ]
  },
  {
   "cell_type": "code",
   "execution_count": null,
   "metadata": {},
   "outputs": [],
   "source": [
    "df['longitude'] = df['longitude'].astype(str)\n",
    "df['latitude'] = df['latitude'].astype(str)\n",
    "df['latandlon'] = df['latitude'] +' '+ df['longitude']"
   ]
  },
  {
   "cell_type": "code",
   "execution_count": null,
   "metadata": {
    "scrolled": true
   },
   "outputs": [],
   "source": [
    "df['latandlon'].value_counts()"
   ]
  },
  {
   "cell_type": "code",
   "execution_count": null,
   "metadata": {},
   "outputs": [],
   "source": [
    "df_checkbot = df[(df.latandlon =='52.3731 4.8922')]"
   ]
  },
  {
   "cell_type": "code",
   "execution_count": null,
   "metadata": {
    "scrolled": true
   },
   "outputs": [],
   "source": [
    "df_checkbot.head(5)"
   ]
  },
  {
   "cell_type": "code",
   "execution_count": null,
   "metadata": {},
   "outputs": [],
   "source": [
    "df_checkbot.tail(5)"
   ]
  },
  {
   "cell_type": "code",
   "execution_count": null,
   "metadata": {},
   "outputs": [],
   "source": [
    "gdf['longitude'] = gdf['longitude'].astype(str)\n",
    "gdf['latitude'] = gdf['latitude'].astype(str)\n",
    "gdf['latandlon'] = gdf['latitude'] +' '+ gdf['longitude']"
   ]
  },
  {
   "cell_type": "code",
   "execution_count": null,
   "metadata": {
    "scrolled": true
   },
   "outputs": [],
   "source": [
    "gdf['latandlon'].value_counts()"
   ]
  },
  {
   "cell_type": "code",
   "execution_count": null,
   "metadata": {},
   "outputs": [],
   "source": [
    "gdf_checkbot = gdf[(gdf.latandlon =='52.3731 4.8922')]"
   ]
  },
  {
   "cell_type": "code",
   "execution_count": null,
   "metadata": {},
   "outputs": [],
   "source": [
    "gdf['CoordinatesCount'] = gdf.groupby('latandlon')['latandlon'].transform('count')"
   ]
  },
  {
   "cell_type": "code",
   "execution_count": null,
   "metadata": {},
   "outputs": [],
   "source": [
    "#Remove locations who have more than 1000 others with the same lat and lon coordinates\n",
    "gdf = gdf[gdf.CoordinatesCount < 1000] "
   ]
  },
  {
   "cell_type": "code",
   "execution_count": null,
   "metadata": {
    "scrolled": false
   },
   "outputs": [],
   "source": [
    "gdf.info()"
   ]
  },
  {
   "cell_type": "code",
   "execution_count": null,
   "metadata": {
    "scrolled": true
   },
   "outputs": [],
   "source": [
    "#Map of all years\n",
    "ax = plot_map(gdf)\n",
    "plt.axis('off')\n",
    "plt.savefig('Heatmap all years before filtering')"
   ]
  },
  {
   "cell_type": "code",
   "execution_count": null,
   "metadata": {
    "scrolled": true
   },
   "outputs": [],
   "source": [
    "#Map per specific year\n",
    "ax = plot_map(gdf[gdf.created_at.dt.year == 2016])\n",
    "plt.axis('off')\n",
    "plt.savefig('Heatmap 2016 before filtering')"
   ]
  },
  {
   "cell_type": "markdown",
   "metadata": {},
   "source": [
    "### Select only attachments and plot gdf_attachments"
   ]
  },
  {
   "cell_type": "code",
   "execution_count": null,
   "metadata": {},
   "outputs": [],
   "source": [
    "gdf['type'].value_counts()"
   ]
  },
  {
   "cell_type": "code",
   "execution_count": null,
   "metadata": {},
   "outputs": [],
   "source": [
    "gdf_attachment = gdf.loc[gdf['type'] != 0]"
   ]
  },
  {
   "cell_type": "code",
   "execution_count": null,
   "metadata": {
    "scrolled": true
   },
   "outputs": [],
   "source": [
    "gdf_attachment.info()"
   ]
  },
  {
   "cell_type": "code",
   "execution_count": null,
   "metadata": {},
   "outputs": [],
   "source": [
    "gdf_attachment['latandlon'].value_counts()"
   ]
  },
  {
   "cell_type": "code",
   "execution_count": null,
   "metadata": {},
   "outputs": [],
   "source": [
    "gdf_attachment['type'].head(5)"
   ]
  },
  {
   "cell_type": "code",
   "execution_count": null,
   "metadata": {
    "scrolled": false
   },
   "outputs": [],
   "source": [
    "#Map with attachments\n",
    "plot_map(gdf_attachment)#[gdf_attachment.created_at.dt.year == 2012])\n",
    "plt.axis('off')\n",
    "plt.savefig('Heatmap attachments')"
   ]
  }
 ],
 "metadata": {
  "kernelspec": {
   "display_name": "Python 3",
   "language": "python",
   "name": "python3"
  },
  "language_info": {
   "codemirror_mode": {
    "name": "ipython",
    "version": 3
   },
   "file_extension": ".py",
   "mimetype": "text/x-python",
   "name": "python",
   "nbconvert_exporter": "python",
   "pygments_lexer": "ipython3",
   "version": "3.6.8"
  }
 },
 "nbformat": 4,
 "nbformat_minor": 2
}
