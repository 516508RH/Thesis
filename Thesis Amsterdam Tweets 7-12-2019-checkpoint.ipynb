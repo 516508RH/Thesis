{
 "cells": [
  {
   "cell_type": "code",
   "execution_count": 1,
   "metadata": {},
   "outputs": [],
   "source": [
    "import numpy as np\n",
    "import geopandas\n",
    "import matplotlib\n",
    "import pandas as pd\n",
    "import json\n",
    "import contextily\n",
    "import matplotlib.pyplot as plt\n",
    "import geoplot\n",
    "import seaborn as sns\n",
    "import datetime\n",
    "import csv\n",
    "\n",
    "from vaderSentiment.vaderSentiment import SentimentIntensityAnalyzer\n",
    "from shapely.geometry import Polygon, Point"
   ]
  },
  {
   "cell_type": "markdown",
   "metadata": {},
   "source": [
    "### Data inspection & cleaning"
   ]
  },
  {
   "cell_type": "code",
   "execution_count": 2,
   "metadata": {
    "scrolled": true
   },
   "outputs": [],
   "source": [
    "#for desktop\n",
    "#df = pd.read_csv(r'C:\\Users\\raymo\\Downloads\\AmsterdamWithLanguage.csv', encoding = 'latin1', sep = ',')"
   ]
  },
  {
   "cell_type": "code",
   "execution_count": 3,
   "metadata": {},
   "outputs": [
    {
     "name": "stderr",
     "output_type": "stream",
     "text": [
      "C:\\Users\\raymo\\Anaconda3\\envs\\python36\\lib\\site-packages\\IPython\\core\\interactiveshell.py:3044: DtypeWarning: Columns (7) have mixed types. Specify dtype option on import or set low_memory=False.\n",
      "  interactivity=interactivity, compiler=compiler, result=result)\n"
     ]
    }
   ],
   "source": [
    "#for laptop\n",
    "df = pd.read_csv(r'C:\\Users\\raymo\\Downloads\\AmsterdamWithLanguage.csv', encoding = 'latin1', sep = ',')"
   ]
  },
  {
   "cell_type": "code",
   "execution_count": 4,
   "metadata": {
    "scrolled": false
   },
   "outputs": [
    {
     "name": "stdout",
     "output_type": "stream",
     "text": [
      "<class 'pandas.core.frame.DataFrame'>\n",
      "RangeIndex: 3570981 entries, 0 to 3570980\n",
      "Data columns (total 16 columns):\n",
      "created_at     object\n",
      "id             int64\n",
      "id_str         int64\n",
      "user_id        int64\n",
      "user_id_str    int64\n",
      "user_name      object\n",
      "tweet_text     object\n",
      "language       object\n",
      "place          object\n",
      "longitude      float64\n",
      "latitude       float64\n",
      "sqrt_area      float64\n",
      "type           object\n",
      "url            object\n",
      "media_url      object\n",
      "time_stamp     int64\n",
      "dtypes: float64(3), int64(5), object(8)\n",
      "memory usage: 435.9+ MB\n"
     ]
    }
   ],
   "source": [
    "df.info()"
   ]
  },
  {
   "cell_type": "code",
   "execution_count": 5,
   "metadata": {
    "scrolled": true
   },
   "outputs": [
    {
     "data": {
      "text/plain": [
       "nl     1106547\n",
       "en     1088740\n",
       "und      94068\n",
       "es       64189\n",
       "de       41628\n",
       "tr       39403\n",
       "fi       38358\n",
       "pt       34254\n",
       "fr       30339\n",
       "it       19161\n",
       "ru       17506\n",
       "id       14563\n",
       "in       14119\n",
       "tl       13234\n",
       "ar       10095\n",
       "ja        7932\n",
       "et        7542\n",
       "pl        7284\n",
       "sv        6955\n",
       "da        6686\n",
       "ht        6082\n",
       "no        4693\n",
       "vi        4270\n",
       "sk        3817\n",
       "sl        3634\n",
       "cy        3085\n",
       "lt        2939\n",
       "lv        2935\n",
       "ro        2623\n",
       "hu        1981\n",
       "is        1895\n",
       "zh        1601\n",
       "uk        1513\n",
       "bg        1462\n",
       "th        1437\n",
       "ko        1142\n",
       "el         643\n",
       "ca         623\n",
       "cs         587\n",
       "fa         417\n",
       "bs         366\n",
       "hr         349\n",
       "he         305\n",
       "iw         295\n",
       "hi         179\n",
       "eu         152\n",
       "sr         143\n",
       "ne          86\n",
       "ur          61\n",
       "kn           6\n",
       "ml           4\n",
       "hy           4\n",
       "ka           4\n",
       "ps           3\n",
       "ta           2\n",
       "iu           1\n",
       "am           1\n",
       "bo           1\n",
       "Name: language, dtype: int64"
      ]
     },
     "execution_count": 5,
     "metadata": {},
     "output_type": "execute_result"
    }
   ],
   "source": [
    "df['language'].value_counts()"
   ]
  },
  {
   "cell_type": "code",
   "execution_count": 6,
   "metadata": {},
   "outputs": [
    {
     "data": {
      "text/html": [
       "<div>\n",
       "<style scoped>\n",
       "    .dataframe tbody tr th:only-of-type {\n",
       "        vertical-align: middle;\n",
       "    }\n",
       "\n",
       "    .dataframe tbody tr th {\n",
       "        vertical-align: top;\n",
       "    }\n",
       "\n",
       "    .dataframe thead th {\n",
       "        text-align: right;\n",
       "    }\n",
       "</style>\n",
       "<table border=\"1\" class=\"dataframe\">\n",
       "  <thead>\n",
       "    <tr style=\"text-align: right;\">\n",
       "      <th></th>\n",
       "      <th>created_at</th>\n",
       "      <th>id</th>\n",
       "      <th>id_str</th>\n",
       "      <th>user_id</th>\n",
       "      <th>user_id_str</th>\n",
       "      <th>user_name</th>\n",
       "      <th>tweet_text</th>\n",
       "      <th>language</th>\n",
       "      <th>place</th>\n",
       "      <th>longitude</th>\n",
       "      <th>latitude</th>\n",
       "      <th>sqrt_area</th>\n",
       "      <th>type</th>\n",
       "      <th>url</th>\n",
       "      <th>media_url</th>\n",
       "      <th>time_stamp</th>\n",
       "    </tr>\n",
       "  </thead>\n",
       "  <tbody>\n",
       "    <tr>\n",
       "      <th>0</th>\n",
       "      <td>Thu Sep 01 00:00:16 +0000 2011</td>\n",
       "      <td>109052916551262208</td>\n",
       "      <td>109052916551262208</td>\n",
       "      <td>272419626</td>\n",
       "      <td>272419626</td>\n",
       "      <td>SoundLoop</td>\n",
       "      <td>#ReMix answer: untitled song, @azhmyfauzi 13/1...</td>\n",
       "      <td>NaN</td>\n",
       "      <td>Amsterdam, North Holland</td>\n",
       "      <td>4.882822</td>\n",
       "      <td>52.362261</td>\n",
       "      <td>0.0</td>\n",
       "      <td>NaN</td>\n",
       "      <td>NaN</td>\n",
       "      <td>NaN</td>\n",
       "      <td>1314835216</td>\n",
       "    </tr>\n",
       "    <tr>\n",
       "      <th>1</th>\n",
       "      <td>Thu Sep 01 00:00:38 +0000 2011</td>\n",
       "      <td>109053009698361344</td>\n",
       "      <td>109053009698361344</td>\n",
       "      <td>272419626</td>\n",
       "      <td>272419626</td>\n",
       "      <td>SoundLoop</td>\n",
       "      <td>#ReMix [rehaocl &amp; rkco tuo] various - 22 brass...</td>\n",
       "      <td>NaN</td>\n",
       "      <td>Amsterdam, North Holland</td>\n",
       "      <td>4.882822</td>\n",
       "      <td>52.362261</td>\n",
       "      <td>0.0</td>\n",
       "      <td>NaN</td>\n",
       "      <td>NaN</td>\n",
       "      <td>NaN</td>\n",
       "      <td>1314835238</td>\n",
       "    </tr>\n",
       "    <tr>\n",
       "      <th>2</th>\n",
       "      <td>Thu Sep 01 00:08:19 +0000 2011</td>\n",
       "      <td>109054945529044992</td>\n",
       "      <td>109054945529044992</td>\n",
       "      <td>22217386</td>\n",
       "      <td>22217386</td>\n",
       "      <td>Freeda (Henk Veen)</td>\n",
       "      <td>RT @henkveen nu naar bedje 6 uur op voor #inte...</td>\n",
       "      <td>NaN</td>\n",
       "      <td>Amsterdam, North Holland</td>\n",
       "      <td>4.929879</td>\n",
       "      <td>52.365195</td>\n",
       "      <td>0.0</td>\n",
       "      <td>NaN</td>\n",
       "      <td>NaN</td>\n",
       "      <td>NaN</td>\n",
       "      <td>1314835699</td>\n",
       "    </tr>\n",
       "  </tbody>\n",
       "</table>\n",
       "</div>"
      ],
      "text/plain": [
       "                       created_at                  id              id_str  \\\n",
       "0  Thu Sep 01 00:00:16 +0000 2011  109052916551262208  109052916551262208   \n",
       "1  Thu Sep 01 00:00:38 +0000 2011  109053009698361344  109053009698361344   \n",
       "2  Thu Sep 01 00:08:19 +0000 2011  109054945529044992  109054945529044992   \n",
       "\n",
       "     user_id  user_id_str           user_name  \\\n",
       "0  272419626    272419626           SoundLoop   \n",
       "1  272419626    272419626           SoundLoop   \n",
       "2   22217386     22217386  Freeda (Henk Veen)   \n",
       "\n",
       "                                          tweet_text language  \\\n",
       "0  #ReMix answer: untitled song, @azhmyfauzi 13/1...      NaN   \n",
       "1  #ReMix [rehaocl & rkco tuo] various - 22 brass...      NaN   \n",
       "2  RT @henkveen nu naar bedje 6 uur op voor #inte...      NaN   \n",
       "\n",
       "                      place  longitude   latitude  sqrt_area type  url  \\\n",
       "0  Amsterdam, North Holland   4.882822  52.362261        0.0  NaN  NaN   \n",
       "1  Amsterdam, North Holland   4.882822  52.362261        0.0  NaN  NaN   \n",
       "2  Amsterdam, North Holland   4.929879  52.365195        0.0  NaN  NaN   \n",
       "\n",
       "  media_url  time_stamp  \n",
       "0       NaN  1314835216  \n",
       "1       NaN  1314835238  \n",
       "2       NaN  1314835699  "
      ]
     },
     "execution_count": 6,
     "metadata": {},
     "output_type": "execute_result"
    }
   ],
   "source": [
    "df.head(3)"
   ]
  },
  {
   "cell_type": "code",
   "execution_count": 7,
   "metadata": {
    "scrolled": false
   },
   "outputs": [
    {
     "data": {
      "text/html": [
       "<div>\n",
       "<style scoped>\n",
       "    .dataframe tbody tr th:only-of-type {\n",
       "        vertical-align: middle;\n",
       "    }\n",
       "\n",
       "    .dataframe tbody tr th {\n",
       "        vertical-align: top;\n",
       "    }\n",
       "\n",
       "    .dataframe thead th {\n",
       "        text-align: right;\n",
       "    }\n",
       "</style>\n",
       "<table border=\"1\" class=\"dataframe\">\n",
       "  <thead>\n",
       "    <tr style=\"text-align: right;\">\n",
       "      <th></th>\n",
       "      <th>created_at</th>\n",
       "      <th>id</th>\n",
       "      <th>id_str</th>\n",
       "      <th>user_id</th>\n",
       "      <th>user_id_str</th>\n",
       "      <th>user_name</th>\n",
       "      <th>tweet_text</th>\n",
       "      <th>language</th>\n",
       "      <th>place</th>\n",
       "      <th>longitude</th>\n",
       "      <th>latitude</th>\n",
       "      <th>sqrt_area</th>\n",
       "      <th>type</th>\n",
       "      <th>url</th>\n",
       "      <th>media_url</th>\n",
       "      <th>time_stamp</th>\n",
       "    </tr>\n",
       "  </thead>\n",
       "  <tbody>\n",
       "    <tr>\n",
       "      <th>3570978</th>\n",
       "      <td>Wed Apr 10 23:55:33 +0000 2019</td>\n",
       "      <td>1116127609643864065</td>\n",
       "      <td>1116127609643864065</td>\n",
       "      <td>45151855</td>\n",
       "      <td>45151855</td>\n",
       "      <td>Xiaui Macagba</td>\n",
       "      <td>One of the canals of Amsterdam @ Amsterdam, Ne...</td>\n",
       "      <td>en</td>\n",
       "      <td>Amsterdam, The Netherlands</td>\n",
       "      <td>4.900100</td>\n",
       "      <td>52.377700</td>\n",
       "      <td>0.0</td>\n",
       "      <td>NaN</td>\n",
       "      <td>NaN</td>\n",
       "      <td>NaN</td>\n",
       "      <td>1554940533</td>\n",
       "    </tr>\n",
       "    <tr>\n",
       "      <th>3570979</th>\n",
       "      <td>Thu Apr 11 00:17:22 +0000 2019</td>\n",
       "      <td>1116133098515832833</td>\n",
       "      <td>1116133098515832833</td>\n",
       "      <td>249596574</td>\n",
       "      <td>249596574</td>\n",
       "      <td>Diego A. GutiÃ©rrez</td>\n",
       "      <td>#Amsterdam Centraal ð³ð±ð en Amsterdam ...</td>\n",
       "      <td>nl</td>\n",
       "      <td>Amsterdam, Holanda</td>\n",
       "      <td>4.898788</td>\n",
       "      <td>52.376974</td>\n",
       "      <td>0.0</td>\n",
       "      <td>NaN</td>\n",
       "      <td>NaN</td>\n",
       "      <td>NaN</td>\n",
       "      <td>1554941842</td>\n",
       "    </tr>\n",
       "    <tr>\n",
       "      <th>3570980</th>\n",
       "      <td>Thu Apr 11 00:18:25 +0000 2019</td>\n",
       "      <td>1116133365319643138</td>\n",
       "      <td>1116133365319643138</td>\n",
       "      <td>22509578</td>\n",
       "      <td>22509578</td>\n",
       "      <td>Chimera âª Ã¸ lll Â·o</td>\n",
       "      <td>Rijksmuseum, Amsterdam â¤ï¸\\n.\\n.\\n.\\n#later...</td>\n",
       "      <td>nl</td>\n",
       "      <td>Amsterdam, Nederland</td>\n",
       "      <td>4.885380</td>\n",
       "      <td>52.359950</td>\n",
       "      <td>0.0</td>\n",
       "      <td>NaN</td>\n",
       "      <td>NaN</td>\n",
       "      <td>NaN</td>\n",
       "      <td>1554941905</td>\n",
       "    </tr>\n",
       "  </tbody>\n",
       "</table>\n",
       "</div>"
      ],
      "text/plain": [
       "                             created_at                   id  \\\n",
       "3570978  Wed Apr 10 23:55:33 +0000 2019  1116127609643864065   \n",
       "3570979  Thu Apr 11 00:17:22 +0000 2019  1116133098515832833   \n",
       "3570980  Thu Apr 11 00:18:25 +0000 2019  1116133365319643138   \n",
       "\n",
       "                      id_str    user_id  user_id_str               user_name  \\\n",
       "3570978  1116127609643864065   45151855     45151855           Xiaui Macagba   \n",
       "3570979  1116133098515832833  249596574    249596574     Diego A. GutiÃ©rrez   \n",
       "3570980  1116133365319643138   22509578     22509578  Chimera âª Ã¸ lll Â·o   \n",
       "\n",
       "                                                tweet_text language  \\\n",
       "3570978  One of the canals of Amsterdam @ Amsterdam, Ne...       en   \n",
       "3570979  #Amsterdam Centraal ð³ð±ð en Amsterdam ...       nl   \n",
       "3570980  Rijksmuseum, Amsterdam â¤ï¸\\n.\\n.\\n.\\n#later...       nl   \n",
       "\n",
       "                              place  longitude   latitude  sqrt_area type  \\\n",
       "3570978  Amsterdam, The Netherlands   4.900100  52.377700        0.0  NaN   \n",
       "3570979          Amsterdam, Holanda   4.898788  52.376974        0.0  NaN   \n",
       "3570980        Amsterdam, Nederland   4.885380  52.359950        0.0  NaN   \n",
       "\n",
       "         url media_url  time_stamp  \n",
       "3570978  NaN       NaN  1554940533  \n",
       "3570979  NaN       NaN  1554941842  \n",
       "3570980  NaN       NaN  1554941905  "
      ]
     },
     "execution_count": 7,
     "metadata": {},
     "output_type": "execute_result"
    }
   ],
   "source": [
    "df.tail(3)"
   ]
  },
  {
   "cell_type": "markdown",
   "metadata": {},
   "source": [
    "### Remove bots from dataset"
   ]
  },
  {
   "cell_type": "code",
   "execution_count": 8,
   "metadata": {
    "scrolled": false
   },
   "outputs": [
    {
     "data": {
      "text/plain": [
       "272419626             321157\n",
       "186899860              74308\n",
       "550261599              43427\n",
       "87496277               41275\n",
       "291158798              30220\n",
       "19140633               16757\n",
       "1020496418             14903\n",
       "15619253               14268\n",
       "124576255              11627\n",
       "59093441               11339\n",
       "278708054              11005\n",
       "1568451847             10595\n",
       "3375579785              9925\n",
       "270963788               8597\n",
       "15536268                7832\n",
       "208056970               7798\n",
       "490558355               7654\n",
       "601196289               7208\n",
       "88039815                7024\n",
       "999538596               7008\n",
       "863162563               6861\n",
       "168489388               6721\n",
       "135668330               6308\n",
       "39748554                6216\n",
       "17519493                6074\n",
       "34236869                5754\n",
       "2596544793              5649\n",
       "2119871                 5644\n",
       "191092262               5528\n",
       "330326882               5479\n",
       "                       ...  \n",
       "41100622                   1\n",
       "355176687                  1\n",
       "183682418                  1\n",
       "485848452                  1\n",
       "89603075                   1\n",
       "764146654903545856         1\n",
       "343184824                  1\n",
       "351763909                  1\n",
       "15354068                   1\n",
       "2598934072                 1\n",
       "443231823                  1\n",
       "66720252                   1\n",
       "90889841                   1\n",
       "288212626                  1\n",
       "103721777                  1\n",
       "1156214995                 1\n",
       "1173017534                 1\n",
       "82624189                   1\n",
       "392862647                  1\n",
       "195707820                  1\n",
       "23825301                   1\n",
       "15502197                   1\n",
       "107020085                  1\n",
       "102809405                  1\n",
       "52473663                   1\n",
       "23903091                   1\n",
       "2153916270                 1\n",
       "1575255973                 1\n",
       "53381941                   1\n",
       "364866910                  1\n",
       "Name: user_id, Length: 275517, dtype: int64"
      ]
     },
     "execution_count": 8,
     "metadata": {},
     "output_type": "execute_result"
    }
   ],
   "source": [
    "df['user_id'].value_counts()"
   ]
  },
  {
   "cell_type": "code",
   "execution_count": null,
   "metadata": {},
   "outputs": [
    {
     "data": {
      "text/html": [
       "<div>\n",
       "<style scoped>\n",
       "    .dataframe tbody tr th:only-of-type {\n",
       "        vertical-align: middle;\n",
       "    }\n",
       "\n",
       "    .dataframe tbody tr th {\n",
       "        vertical-align: top;\n",
       "    }\n",
       "\n",
       "    .dataframe thead th {\n",
       "        text-align: right;\n",
       "    }\n",
       "</style>\n",
       "<table border=\"1\" class=\"dataframe\">\n",
       "  <thead>\n",
       "    <tr style=\"text-align: right;\">\n",
       "      <th></th>\n",
       "      <th>created_at</th>\n",
       "      <th>id</th>\n",
       "      <th>id_str</th>\n",
       "      <th>user_id</th>\n",
       "      <th>user_id_str</th>\n",
       "      <th>user_name</th>\n",
       "      <th>tweet_text</th>\n",
       "      <th>language</th>\n",
       "      <th>place</th>\n",
       "      <th>longitude</th>\n",
       "      <th>latitude</th>\n",
       "      <th>sqrt_area</th>\n",
       "      <th>type</th>\n",
       "      <th>url</th>\n",
       "      <th>media_url</th>\n",
       "      <th>time_stamp</th>\n",
       "    </tr>\n",
       "  </thead>\n",
       "  <tbody>\n",
       "    <tr>\n",
       "      <th>70</th>\n",
       "      <td>Thu Sep 01 04:12:01 +0000 2011</td>\n",
       "      <td>109116272142331904</td>\n",
       "      <td>109116272142331904</td>\n",
       "      <td>215292728</td>\n",
       "      <td>215292728</td>\n",
       "      <td>Sol Tempore</td>\n",
       "      <td>Good morning, Amsterdam, Netherlands! Dawn 06:...</td>\n",
       "      <td>NaN</td>\n",
       "      <td>Amsterdam, North Holland</td>\n",
       "      <td>4.9</td>\n",
       "      <td>52.3667</td>\n",
       "      <td>0.0</td>\n",
       "      <td>NaN</td>\n",
       "      <td>NaN</td>\n",
       "      <td>NaN</td>\n",
       "      <td>1314850321</td>\n",
       "    </tr>\n",
       "    <tr>\n",
       "      <th>1656</th>\n",
       "      <td>Fri Sep 02 04:14:00 +0000 2011</td>\n",
       "      <td>109479161298554880</td>\n",
       "      <td>109479161298554880</td>\n",
       "      <td>215292728</td>\n",
       "      <td>215292728</td>\n",
       "      <td>Sol Tempore</td>\n",
       "      <td>Good morning, Amsterdam, Netherlands! Dawn 06:...</td>\n",
       "      <td>NaN</td>\n",
       "      <td>Amsterdam</td>\n",
       "      <td>4.9</td>\n",
       "      <td>52.3667</td>\n",
       "      <td>0.0</td>\n",
       "      <td>NaN</td>\n",
       "      <td>NaN</td>\n",
       "      <td>NaN</td>\n",
       "      <td>1314936840</td>\n",
       "    </tr>\n",
       "    <tr>\n",
       "      <th>3056</th>\n",
       "      <td>Sat Sep 03 04:15:01 +0000 2011</td>\n",
       "      <td>109841803154427904</td>\n",
       "      <td>109841803154427904</td>\n",
       "      <td>215292728</td>\n",
       "      <td>215292728</td>\n",
       "      <td>Sol Tempore</td>\n",
       "      <td>Good morning, Amsterdam, Netherlands! Dawn 06:...</td>\n",
       "      <td>NaN</td>\n",
       "      <td>Amsterdam</td>\n",
       "      <td>4.9</td>\n",
       "      <td>52.3667</td>\n",
       "      <td>0.0</td>\n",
       "      <td>NaN</td>\n",
       "      <td>NaN</td>\n",
       "      <td>NaN</td>\n",
       "      <td>1315023301</td>\n",
       "    </tr>\n",
       "    <tr>\n",
       "      <th>4534</th>\n",
       "      <td>Sun Sep 04 04:17:01 +0000 2011</td>\n",
       "      <td>110204694885957633</td>\n",
       "      <td>110204694885957633</td>\n",
       "      <td>215292728</td>\n",
       "      <td>215292728</td>\n",
       "      <td>Sol Tempore</td>\n",
       "      <td>Good morning, Amsterdam, Netherlands! Dawn 06:...</td>\n",
       "      <td>NaN</td>\n",
       "      <td>Amsterdam</td>\n",
       "      <td>4.9</td>\n",
       "      <td>52.3667</td>\n",
       "      <td>0.0</td>\n",
       "      <td>NaN</td>\n",
       "      <td>NaN</td>\n",
       "      <td>NaN</td>\n",
       "      <td>1315109821</td>\n",
       "    </tr>\n",
       "    <tr>\n",
       "      <th>7034</th>\n",
       "      <td>Tue Sep 06 04:21:01 +0000 2011</td>\n",
       "      <td>110930475605954560</td>\n",
       "      <td>110930475605954560</td>\n",
       "      <td>215292728</td>\n",
       "      <td>215292728</td>\n",
       "      <td>Sol Tempore</td>\n",
       "      <td>Good morning, Amsterdam, Netherlands! Dawn 06:...</td>\n",
       "      <td>NaN</td>\n",
       "      <td>Amsterdam</td>\n",
       "      <td>4.9</td>\n",
       "      <td>52.3667</td>\n",
       "      <td>0.0</td>\n",
       "      <td>NaN</td>\n",
       "      <td>NaN</td>\n",
       "      <td>NaN</td>\n",
       "      <td>1315282861</td>\n",
       "    </tr>\n",
       "  </tbody>\n",
       "</table>\n",
       "</div>"
      ],
      "text/plain": [
       "                          created_at                  id              id_str  \\\n",
       "70    Thu Sep 01 04:12:01 +0000 2011  109116272142331904  109116272142331904   \n",
       "1656  Fri Sep 02 04:14:00 +0000 2011  109479161298554880  109479161298554880   \n",
       "3056  Sat Sep 03 04:15:01 +0000 2011  109841803154427904  109841803154427904   \n",
       "4534  Sun Sep 04 04:17:01 +0000 2011  110204694885957633  110204694885957633   \n",
       "7034  Tue Sep 06 04:21:01 +0000 2011  110930475605954560  110930475605954560   \n",
       "\n",
       "        user_id  user_id_str    user_name  \\\n",
       "70    215292728    215292728  Sol Tempore   \n",
       "1656  215292728    215292728  Sol Tempore   \n",
       "3056  215292728    215292728  Sol Tempore   \n",
       "4534  215292728    215292728  Sol Tempore   \n",
       "7034  215292728    215292728  Sol Tempore   \n",
       "\n",
       "                                             tweet_text language  \\\n",
       "70    Good morning, Amsterdam, Netherlands! Dawn 06:...      NaN   \n",
       "1656  Good morning, Amsterdam, Netherlands! Dawn 06:...      NaN   \n",
       "3056  Good morning, Amsterdam, Netherlands! Dawn 06:...      NaN   \n",
       "4534  Good morning, Amsterdam, Netherlands! Dawn 06:...      NaN   \n",
       "7034  Good morning, Amsterdam, Netherlands! Dawn 06:...      NaN   \n",
       "\n",
       "                         place  longitude  latitude  sqrt_area type  url  \\\n",
       "70    Amsterdam, North Holland        4.9   52.3667        0.0  NaN  NaN   \n",
       "1656                 Amsterdam        4.9   52.3667        0.0  NaN  NaN   \n",
       "3056                 Amsterdam        4.9   52.3667        0.0  NaN  NaN   \n",
       "4534                 Amsterdam        4.9   52.3667        0.0  NaN  NaN   \n",
       "7034                 Amsterdam        4.9   52.3667        0.0  NaN  NaN   \n",
       "\n",
       "     media_url  time_stamp  \n",
       "70         NaN  1314850321  \n",
       "1656       NaN  1314936840  \n",
       "3056       NaN  1315023301  \n",
       "4534       NaN  1315109821  \n",
       "7034       NaN  1315282861  "
      ]
     },
     "execution_count": 9,
     "metadata": {},
     "output_type": "execute_result"
    }
   ],
   "source": [
    "df[df.user_name == 'Sol Tempore'].head()"
   ]
  },
  {
   "cell_type": "code",
   "execution_count": null,
   "metadata": {
    "scrolled": true
   },
   "outputs": [
    {
     "data": {
      "text/html": [
       "<div>\n",
       "<style scoped>\n",
       "    .dataframe tbody tr th:only-of-type {\n",
       "        vertical-align: middle;\n",
       "    }\n",
       "\n",
       "    .dataframe tbody tr th {\n",
       "        vertical-align: top;\n",
       "    }\n",
       "\n",
       "    .dataframe thead th {\n",
       "        text-align: right;\n",
       "    }\n",
       "</style>\n",
       "<table border=\"1\" class=\"dataframe\">\n",
       "  <thead>\n",
       "    <tr style=\"text-align: right;\">\n",
       "      <th></th>\n",
       "      <th>created_at</th>\n",
       "      <th>id</th>\n",
       "      <th>id_str</th>\n",
       "      <th>user_id</th>\n",
       "      <th>user_id_str</th>\n",
       "      <th>user_name</th>\n",
       "      <th>tweet_text</th>\n",
       "      <th>language</th>\n",
       "      <th>place</th>\n",
       "      <th>longitude</th>\n",
       "      <th>latitude</th>\n",
       "      <th>sqrt_area</th>\n",
       "      <th>type</th>\n",
       "      <th>url</th>\n",
       "      <th>media_url</th>\n",
       "      <th>time_stamp</th>\n",
       "    </tr>\n",
       "  </thead>\n",
       "  <tbody>\n",
       "    <tr>\n",
       "      <th>70</th>\n",
       "      <td>Thu Sep 01 04:12:01 +0000 2011</td>\n",
       "      <td>109116272142331904</td>\n",
       "      <td>109116272142331904</td>\n",
       "      <td>215292728</td>\n",
       "      <td>215292728</td>\n",
       "      <td>Sol Tempore</td>\n",
       "      <td>Good morning, Amsterdam, Netherlands! Dawn 06:...</td>\n",
       "      <td>NaN</td>\n",
       "      <td>Amsterdam, North Holland</td>\n",
       "      <td>4.9</td>\n",
       "      <td>52.3667</td>\n",
       "      <td>0.0</td>\n",
       "      <td>NaN</td>\n",
       "      <td>NaN</td>\n",
       "      <td>NaN</td>\n",
       "      <td>1314850321</td>\n",
       "    </tr>\n",
       "    <tr>\n",
       "      <th>1656</th>\n",
       "      <td>Fri Sep 02 04:14:00 +0000 2011</td>\n",
       "      <td>109479161298554880</td>\n",
       "      <td>109479161298554880</td>\n",
       "      <td>215292728</td>\n",
       "      <td>215292728</td>\n",
       "      <td>Sol Tempore</td>\n",
       "      <td>Good morning, Amsterdam, Netherlands! Dawn 06:...</td>\n",
       "      <td>NaN</td>\n",
       "      <td>Amsterdam</td>\n",
       "      <td>4.9</td>\n",
       "      <td>52.3667</td>\n",
       "      <td>0.0</td>\n",
       "      <td>NaN</td>\n",
       "      <td>NaN</td>\n",
       "      <td>NaN</td>\n",
       "      <td>1314936840</td>\n",
       "    </tr>\n",
       "    <tr>\n",
       "      <th>3056</th>\n",
       "      <td>Sat Sep 03 04:15:01 +0000 2011</td>\n",
       "      <td>109841803154427904</td>\n",
       "      <td>109841803154427904</td>\n",
       "      <td>215292728</td>\n",
       "      <td>215292728</td>\n",
       "      <td>Sol Tempore</td>\n",
       "      <td>Good morning, Amsterdam, Netherlands! Dawn 06:...</td>\n",
       "      <td>NaN</td>\n",
       "      <td>Amsterdam</td>\n",
       "      <td>4.9</td>\n",
       "      <td>52.3667</td>\n",
       "      <td>0.0</td>\n",
       "      <td>NaN</td>\n",
       "      <td>NaN</td>\n",
       "      <td>NaN</td>\n",
       "      <td>1315023301</td>\n",
       "    </tr>\n",
       "    <tr>\n",
       "      <th>4534</th>\n",
       "      <td>Sun Sep 04 04:17:01 +0000 2011</td>\n",
       "      <td>110204694885957633</td>\n",
       "      <td>110204694885957633</td>\n",
       "      <td>215292728</td>\n",
       "      <td>215292728</td>\n",
       "      <td>Sol Tempore</td>\n",
       "      <td>Good morning, Amsterdam, Netherlands! Dawn 06:...</td>\n",
       "      <td>NaN</td>\n",
       "      <td>Amsterdam</td>\n",
       "      <td>4.9</td>\n",
       "      <td>52.3667</td>\n",
       "      <td>0.0</td>\n",
       "      <td>NaN</td>\n",
       "      <td>NaN</td>\n",
       "      <td>NaN</td>\n",
       "      <td>1315109821</td>\n",
       "    </tr>\n",
       "    <tr>\n",
       "      <th>7034</th>\n",
       "      <td>Tue Sep 06 04:21:01 +0000 2011</td>\n",
       "      <td>110930475605954560</td>\n",
       "      <td>110930475605954560</td>\n",
       "      <td>215292728</td>\n",
       "      <td>215292728</td>\n",
       "      <td>Sol Tempore</td>\n",
       "      <td>Good morning, Amsterdam, Netherlands! Dawn 06:...</td>\n",
       "      <td>NaN</td>\n",
       "      <td>Amsterdam</td>\n",
       "      <td>4.9</td>\n",
       "      <td>52.3667</td>\n",
       "      <td>0.0</td>\n",
       "      <td>NaN</td>\n",
       "      <td>NaN</td>\n",
       "      <td>NaN</td>\n",
       "      <td>1315282861</td>\n",
       "    </tr>\n",
       "    <tr>\n",
       "      <th>8390</th>\n",
       "      <td>Wed Sep 07 04:22:00 +0000 2011</td>\n",
       "      <td>111293114823622656</td>\n",
       "      <td>111293114823622656</td>\n",
       "      <td>215292728</td>\n",
       "      <td>215292728</td>\n",
       "      <td>Sol Tempore</td>\n",
       "      <td>Good morning, Amsterdam, Netherlands! Dawn 06:...</td>\n",
       "      <td>NaN</td>\n",
       "      <td>Amsterdam</td>\n",
       "      <td>4.9</td>\n",
       "      <td>52.3667</td>\n",
       "      <td>0.0</td>\n",
       "      <td>NaN</td>\n",
       "      <td>NaN</td>\n",
       "      <td>NaN</td>\n",
       "      <td>1315369320</td>\n",
       "    </tr>\n",
       "    <tr>\n",
       "      <th>9866</th>\n",
       "      <td>Thu Sep 08 04:24:01 +0000 2011</td>\n",
       "      <td>111656007641477120</td>\n",
       "      <td>111656007641477120</td>\n",
       "      <td>215292728</td>\n",
       "      <td>215292728</td>\n",
       "      <td>Sol Tempore</td>\n",
       "      <td>Good morning, Amsterdam, Netherlands! Dawn 06:...</td>\n",
       "      <td>NaN</td>\n",
       "      <td>Amsterdam</td>\n",
       "      <td>4.9</td>\n",
       "      <td>52.3667</td>\n",
       "      <td>0.0</td>\n",
       "      <td>NaN</td>\n",
       "      <td>NaN</td>\n",
       "      <td>NaN</td>\n",
       "      <td>1315455841</td>\n",
       "    </tr>\n",
       "    <tr>\n",
       "      <th>11483</th>\n",
       "      <td>Fri Sep 09 04:26:00 +0000 2011</td>\n",
       "      <td>112018896889978880</td>\n",
       "      <td>112018896889978880</td>\n",
       "      <td>215292728</td>\n",
       "      <td>215292728</td>\n",
       "      <td>Sol Tempore</td>\n",
       "      <td>Good morning, Amsterdam, Netherlands! Dawn 06:...</td>\n",
       "      <td>NaN</td>\n",
       "      <td>Amsterdam</td>\n",
       "      <td>4.9</td>\n",
       "      <td>52.3667</td>\n",
       "      <td>0.0</td>\n",
       "      <td>NaN</td>\n",
       "      <td>NaN</td>\n",
       "      <td>NaN</td>\n",
       "      <td>1315542360</td>\n",
       "    </tr>\n",
       "    <tr>\n",
       "      <th>13165</th>\n",
       "      <td>Sat Sep 10 04:28:01 +0000 2011</td>\n",
       "      <td>112381791029039104</td>\n",
       "      <td>112381791029039104</td>\n",
       "      <td>215292728</td>\n",
       "      <td>215292728</td>\n",
       "      <td>Sol Tempore</td>\n",
       "      <td>Good morning, Amsterdam, Netherlands! Dawn 06:...</td>\n",
       "      <td>NaN</td>\n",
       "      <td>Amsterdam</td>\n",
       "      <td>4.9</td>\n",
       "      <td>52.3667</td>\n",
       "      <td>0.0</td>\n",
       "      <td>NaN</td>\n",
       "      <td>NaN</td>\n",
       "      <td>NaN</td>\n",
       "      <td>1315628881</td>\n",
       "    </tr>\n",
       "    <tr>\n",
       "      <th>14795</th>\n",
       "      <td>Sun Sep 11 04:29:00 +0000 2011</td>\n",
       "      <td>112744428032114688</td>\n",
       "      <td>112744428032114688</td>\n",
       "      <td>215292728</td>\n",
       "      <td>215292728</td>\n",
       "      <td>Sol Tempore</td>\n",
       "      <td>Good morning, Amsterdam, Netherlands! Dawn 06:...</td>\n",
       "      <td>NaN</td>\n",
       "      <td>Amsterdam</td>\n",
       "      <td>4.9</td>\n",
       "      <td>52.3667</td>\n",
       "      <td>0.0</td>\n",
       "      <td>NaN</td>\n",
       "      <td>NaN</td>\n",
       "      <td>NaN</td>\n",
       "      <td>1315715340</td>\n",
       "    </tr>\n",
       "  </tbody>\n",
       "</table>\n",
       "</div>"
      ],
      "text/plain": [
       "                           created_at                  id              id_str  \\\n",
       "70     Thu Sep 01 04:12:01 +0000 2011  109116272142331904  109116272142331904   \n",
       "1656   Fri Sep 02 04:14:00 +0000 2011  109479161298554880  109479161298554880   \n",
       "3056   Sat Sep 03 04:15:01 +0000 2011  109841803154427904  109841803154427904   \n",
       "4534   Sun Sep 04 04:17:01 +0000 2011  110204694885957633  110204694885957633   \n",
       "7034   Tue Sep 06 04:21:01 +0000 2011  110930475605954560  110930475605954560   \n",
       "8390   Wed Sep 07 04:22:00 +0000 2011  111293114823622656  111293114823622656   \n",
       "9866   Thu Sep 08 04:24:01 +0000 2011  111656007641477120  111656007641477120   \n",
       "11483  Fri Sep 09 04:26:00 +0000 2011  112018896889978880  112018896889978880   \n",
       "13165  Sat Sep 10 04:28:01 +0000 2011  112381791029039104  112381791029039104   \n",
       "14795  Sun Sep 11 04:29:00 +0000 2011  112744428032114688  112744428032114688   \n",
       "\n",
       "         user_id  user_id_str    user_name  \\\n",
       "70     215292728    215292728  Sol Tempore   \n",
       "1656   215292728    215292728  Sol Tempore   \n",
       "3056   215292728    215292728  Sol Tempore   \n",
       "4534   215292728    215292728  Sol Tempore   \n",
       "7034   215292728    215292728  Sol Tempore   \n",
       "8390   215292728    215292728  Sol Tempore   \n",
       "9866   215292728    215292728  Sol Tempore   \n",
       "11483  215292728    215292728  Sol Tempore   \n",
       "13165  215292728    215292728  Sol Tempore   \n",
       "14795  215292728    215292728  Sol Tempore   \n",
       "\n",
       "                                              tweet_text language  \\\n",
       "70     Good morning, Amsterdam, Netherlands! Dawn 06:...      NaN   \n",
       "1656   Good morning, Amsterdam, Netherlands! Dawn 06:...      NaN   \n",
       "3056   Good morning, Amsterdam, Netherlands! Dawn 06:...      NaN   \n",
       "4534   Good morning, Amsterdam, Netherlands! Dawn 06:...      NaN   \n",
       "7034   Good morning, Amsterdam, Netherlands! Dawn 06:...      NaN   \n",
       "8390   Good morning, Amsterdam, Netherlands! Dawn 06:...      NaN   \n",
       "9866   Good morning, Amsterdam, Netherlands! Dawn 06:...      NaN   \n",
       "11483  Good morning, Amsterdam, Netherlands! Dawn 06:...      NaN   \n",
       "13165  Good morning, Amsterdam, Netherlands! Dawn 06:...      NaN   \n",
       "14795  Good morning, Amsterdam, Netherlands! Dawn 06:...      NaN   \n",
       "\n",
       "                          place  longitude  latitude  sqrt_area type  url  \\\n",
       "70     Amsterdam, North Holland        4.9   52.3667        0.0  NaN  NaN   \n",
       "1656                  Amsterdam        4.9   52.3667        0.0  NaN  NaN   \n",
       "3056                  Amsterdam        4.9   52.3667        0.0  NaN  NaN   \n",
       "4534                  Amsterdam        4.9   52.3667        0.0  NaN  NaN   \n",
       "7034                  Amsterdam        4.9   52.3667        0.0  NaN  NaN   \n",
       "8390                  Amsterdam        4.9   52.3667        0.0  NaN  NaN   \n",
       "9866                  Amsterdam        4.9   52.3667        0.0  NaN  NaN   \n",
       "11483                 Amsterdam        4.9   52.3667        0.0  NaN  NaN   \n",
       "13165                 Amsterdam        4.9   52.3667        0.0  NaN  NaN   \n",
       "14795                 Amsterdam        4.9   52.3667        0.0  NaN  NaN   \n",
       "\n",
       "      media_url  time_stamp  \n",
       "70          NaN  1314850321  \n",
       "1656        NaN  1314936840  \n",
       "3056        NaN  1315023301  \n",
       "4534        NaN  1315109821  \n",
       "7034        NaN  1315282861  \n",
       "8390        NaN  1315369320  \n",
       "9866        NaN  1315455841  \n",
       "11483       NaN  1315542360  \n",
       "13165       NaN  1315628881  \n",
       "14795       NaN  1315715340  "
      ]
     },
     "execution_count": 10,
     "metadata": {},
     "output_type": "execute_result"
    }
   ],
   "source": [
    "### Manually inspect user ids for bots\n",
    "df[df.user_id ==215292728].head(10)\n"
   ]
  },
  {
   "cell_type": "code",
   "execution_count": null,
   "metadata": {
    "scrolled": true
   },
   "outputs": [],
   "source": [
    "#delete user_ids which are bots\n",
    "df = df[(df.user_id !=272419626) & (df.user_id !=186899860) & (df.user_id !=550261599) & (df.user_id !=291158798) \n",
    "        &(df.user_id !=19140633) &(df.user_id !=278708054) &(df.user_id !=3375579785) &(df.user_id !=208056970) & \n",
    "        (df.user_id !=88039815) & (df.user_id !=168489388 ) & (df.user_id !=191092262) & (df.user_id !=215292728)]\n"
   ]
  },
  {
   "cell_type": "code",
   "execution_count": null,
   "metadata": {
    "scrolled": true
   },
   "outputs": [
    {
     "data": {
      "text/plain": [
       "created_at     3034715\n",
       "id             3034715\n",
       "id_str         3034715\n",
       "user_id        3034715\n",
       "user_id_str    3034715\n",
       "user_name      3031986\n",
       "tweet_text     3034715\n",
       "language       2394946\n",
       "place          3030610\n",
       "longitude      3034715\n",
       "latitude       3034715\n",
       "sqrt_area      3034715\n",
       "type            281481\n",
       "url             281481\n",
       "media_url       281481\n",
       "time_stamp     3034715\n",
       "dtype: int64"
      ]
     },
     "execution_count": 12,
     "metadata": {},
     "output_type": "execute_result"
    }
   ],
   "source": [
    "df.count()"
   ]
  },
  {
   "cell_type": "markdown",
   "metadata": {},
   "source": [
    "### Drop duplicate ID's"
   ]
  },
  {
   "cell_type": "code",
   "execution_count": null,
   "metadata": {
    "scrolled": false
   },
   "outputs": [
    {
     "data": {
      "text/plain": [
       "524624155334148096     3\n",
       "304686731834302464     2\n",
       "375492984563064832     2\n",
       "489550634279239680     2\n",
       "502951512159817728     2\n",
       "247075834039513088     2\n",
       "379216576463261696     2\n",
       "503971324638027777     2\n",
       "338658582327349248     2\n",
       "419761488212275200     2\n",
       "1098134281807847424    2\n",
       "415810501147639808     2\n",
       "358412371775062017     2\n",
       "368110441253187584     2\n",
       "420265099832877056     2\n",
       "351621266559602689     2\n",
       "370643824147959808     2\n",
       "502875244810743808     2\n",
       "1099325561829126145    2\n",
       "555876859112456192     2\n",
       "384917490167742464     2\n",
       "389132768103649280     2\n",
       "311500878672711680     2\n",
       "342716775529594880     2\n",
       "329166744075763712     2\n",
       "352529091179724800     2\n",
       "423507497627164672     2\n",
       "352452187693133824     2\n",
       "379650934223421440     2\n",
       "385314350346412032     2\n",
       "                      ..\n",
       "494163181485690880     1\n",
       "559732638102323205     1\n",
       "274844701847343105     1\n",
       "952719620854747137     1\n",
       "310820715463065600     1\n",
       "706430185512542208     1\n",
       "451664014402400256     1\n",
       "415529700640178176     1\n",
       "568148855298109440     1\n",
       "539719846569971712     1\n",
       "274897966593093632     1\n",
       "559821006781812736     1\n",
       "884142771845648384     1\n",
       "202822737100677121     1\n",
       "574378903244050432     1\n",
       "1109529558737448965    1\n",
       "583205888669908992     1\n",
       "454286991270883328     1\n",
       "610591970835218432     1\n",
       "292043386662313984     1\n",
       "415529792587710464     1\n",
       "202752283941945345     1\n",
       "774682793053974528     1\n",
       "202840233123917824     1\n",
       "1017780580069584896    1\n",
       "379694459921108993     1\n",
       "382984195577884672     1\n",
       "559785640951549954     1\n",
       "371287922022297600     1\n",
       "181340278207164418     1\n",
       "Name: id, Length: 3034020, dtype: int64"
      ]
     },
     "execution_count": 13,
     "metadata": {},
     "output_type": "execute_result"
    }
   ],
   "source": [
    "df['id'].value_counts()"
   ]
  },
  {
   "cell_type": "code",
   "execution_count": null,
   "metadata": {
    "scrolled": false
   },
   "outputs": [],
   "source": [
    "df = df.drop_duplicates(subset='id', keep=\"first\")"
   ]
  },
  {
   "cell_type": "code",
   "execution_count": null,
   "metadata": {},
   "outputs": [],
   "source": [
    "df.info()"
   ]
  },
  {
   "cell_type": "markdown",
   "metadata": {},
   "source": [
    "### Data transformation and descriptive statistics"
   ]
  },
  {
   "cell_type": "code",
   "execution_count": null,
   "metadata": {},
   "outputs": [],
   "source": [
    "df['created_at'] = pd.to_datetime(df['created_at'], format='%a %b %d %H:%M:%S +0000 %Y')"
   ]
  },
  {
   "cell_type": "code",
   "execution_count": null,
   "metadata": {},
   "outputs": [],
   "source": [
    "### transform from GMT to UTC by adding one hour\n",
    "#df['created_at'] = df['created_at'] + datetime.timedelta(hours=1)"
   ]
  },
  {
   "cell_type": "code",
   "execution_count": null,
   "metadata": {},
   "outputs": [],
   "source": [
    "#remove 2011 and 2019 from dataframe\n",
    "start_date = '01-01-2012'\n",
    "end_date = '01-01-2019'\n",
    "mask = (df['created_at'] >= start_date) & (df['created_at'] < end_date)\n",
    "df = df.loc[mask]"
   ]
  },
  {
   "cell_type": "code",
   "execution_count": null,
   "metadata": {
    "scrolled": true
   },
   "outputs": [],
   "source": [
    "df.tail()"
   ]
  },
  {
   "cell_type": "code",
   "execution_count": null,
   "metadata": {
    "scrolled": true
   },
   "outputs": [],
   "source": [
    "df.info()"
   ]
  },
  {
   "cell_type": "code",
   "execution_count": null,
   "metadata": {
    "scrolled": true
   },
   "outputs": [],
   "source": [
    "def get_day_of_week(day):\n",
    "    weekdays = {\n",
    "        0: 'Monday',\n",
    "        1: 'Tuesday',\n",
    "        2: 'Wednesday',\n",
    "        3: 'Thursday',\n",
    "        4: 'Friday',\n",
    "        5: 'Saturday',\n",
    "        6: 'Sunday'\n",
    "    }\n",
    "    return weekdays[day]\n",
    "\n",
    "def get_season(month):\n",
    "    months = {\n",
    "        1: 'Winter',\n",
    "        2: 'Winter',\n",
    "        3: 'Spring',\n",
    "        4: 'Spring',\n",
    "        5: 'Spring',\n",
    "        6: 'Summer',\n",
    "        7: 'Summer',\n",
    "        8: 'Summer',\n",
    "        9: 'Autumn',\n",
    "        10: 'Autumn',\n",
    "        11: 'Autumn',\n",
    "        12: 'Winter',\n",
    "    }\n",
    "    \n",
    "    return months[month]\n",
    "\n",
    "df['Year'] = df.created_at.dt.year\n",
    "df['Month'] = df.created_at.dt.month\n",
    "df['Day'] = df.created_at.dt.day\n",
    "df['Hour'] = df.created_at.dt.hour\n",
    "df['DayOfWeek_nr'] = df.created_at.dt.dayofweek\n",
    "df['DayOfWeek'] = df.created_at.dt.dayofweek.apply(lambda x: get_day_of_week(x))\n",
    "df['YearMonth'] = pd.to_datetime(df['created_at']).dt.to_period('M')\n",
    "df['Season'] = df.Month.apply(get_season)"
   ]
  },
  {
   "cell_type": "code",
   "execution_count": null,
   "metadata": {
    "scrolled": true
   },
   "outputs": [],
   "source": [
    "#start_date = '09-01-2013'\n",
    "#end_date = '09-08-2013'\n",
    "#mask = (df['created_at'] > start_date) & (df['created_at'] <= end_date)\n",
    "#df2 = df.loc[mask]\n",
    "#df2.id = df.id.astype(str)\n",
    "#df2.id_str = df.id_str.astype(str)\n",
    "#df2.to_csv(r'C:\\Users\\raymo\\Downloads\\AmsterdamSeptember2013-09-01.csv', index=False, quotechar='\"', quoting=csv.QUOTE_NONNUMERIC)\n",
    "#df2.info()\n"
   ]
  },
  {
   "cell_type": "code",
   "execution_count": null,
   "metadata": {
    "scrolled": true
   },
   "outputs": [],
   "source": [
    "#only to set style for matplotlib plots\n",
    "sns.scatterplot(x='Hour',y='created_at',data=df)\n",
    "sns.set(style=\"darkgrid\")\n",
    "#plt.show()"
   ]
  },
  {
   "cell_type": "code",
   "execution_count": null,
   "metadata": {
    "scrolled": true
   },
   "outputs": [],
   "source": [
    "df.groupby('Hour').agg({'id':'count'}).rename(columns={'id':'Tweets per hour'}).plot(title = 'Distribution of tweets per hour', kind = 'bar', color = 'royalblue', legend = None)\n",
    "plt.xlabel('Hour')\n",
    "plt.ylabel('Number of Tweets')\n",
    "plt.tight_layout()\n",
    "plt.savefig('Distribution of tweets per hour')\n",
    "plt.show()\n"
   ]
  },
  {
   "cell_type": "code",
   "execution_count": null,
   "metadata": {},
   "outputs": [],
   "source": [
    "df.groupby('Year').agg({'id':'count'}).rename(columns={'id':'Tweets per year'}).plot(title = 'Distribution of tweets per year', kind = 'bar', color = 'royalblue', legend = None)\n",
    "plt.ylabel('Number of Tweets')\n",
    "plt.tight_layout()\n",
    "plt.savefig('Distribution of tweets per year')\n",
    "plt.show()"
   ]
  },
  {
   "cell_type": "code",
   "execution_count": null,
   "metadata": {
    "scrolled": true
   },
   "outputs": [],
   "source": [
    "ax = df.groupby('DayOfWeek_nr').agg({'id':'count'}).plot(title = 'Distribution of tweets per day of the week', kind = 'bar', color = 'royalblue', legend = None)\n",
    "plt.xlabel('Weekday')\n",
    "plt.ylabel('Number of Tweets')\n",
    "ax.set_xticklabels(['Monday','Tuesday','Wednesday','Thursday','Friday','Saturday','Sunday'])\n",
    "plt.tight_layout()\n",
    "plt.savefig('Distribution of tweets per day of the week')\n",
    "plt.show()"
   ]
  },
  {
   "cell_type": "code",
   "execution_count": null,
   "metadata": {},
   "outputs": [],
   "source": [
    "df['DayOfWeek'].value_counts()"
   ]
  },
  {
   "cell_type": "code",
   "execution_count": null,
   "metadata": {},
   "outputs": [],
   "source": [
    "ax = df.groupby('Month').agg({'id':'count'}).plot(title = 'Distribution of tweets per month', kind = 'bar', color = 'royalblue', legend = None)\n",
    "plt.xlabel('Month')\n",
    "plt.ylabel('Number of Tweets')\n",
    "ax.set_xticklabels(['January','February','March','April','May','June','July', 'August', 'September', 'October', 'November', 'December'])\n",
    "plt.tight_layout()\n",
    "plt.savefig('Distribution of tweets per month')\n",
    "plt.show()"
   ]
  },
  {
   "cell_type": "code",
   "execution_count": null,
   "metadata": {},
   "outputs": [],
   "source": [
    "ax = df.groupby('Season').agg({'id':'count'}).plot(title = 'Distribution of tweets per season', kind = 'bar', color = 'royalblue', legend = None)\n",
    "plt.xlabel('Season')\n",
    "plt.ylabel('Number of Tweets')\n",
    "plt.tight_layout()\n",
    "plt.savefig('Distribution of tweets per Season')\n",
    "plt.show()"
   ]
  },
  {
   "cell_type": "markdown",
   "metadata": {},
   "source": [
    "### Distinguish tourists from residents"
   ]
  },
  {
   "cell_type": "code",
   "execution_count": null,
   "metadata": {},
   "outputs": [],
   "source": [
    "user_date_ranges_df = df.groupby('user_id').agg({\n",
    "    'created_at': ['min','max'],\n",
    "    'tweet_text': ['count']\n",
    "}).reset_index()\n",
    "\n",
    "# time difference from first tweet to last tweet\n",
    "user_date_ranges_df['diff'] = user_date_ranges_df['created_at']['max'] - user_date_ranges_df['created_at']['min']\n",
    "\n",
    "user_date_ranges_df.columns = ['user_id','min','max','count','diff']\n",
    "user_date_ranges_df = user_date_ranges_df.drop(columns=['min','max'])\n",
    "\n",
    "# average number of tweets per day\n",
    "user_date_ranges_df['freq'] = user_date_ranges_df['count'] / (user_date_ranges_df['diff'].dt.days)\n",
    "user_date_ranges_df['freq'].replace(np.inf, 0, inplace=True)"
   ]
  },
  {
   "cell_type": "code",
   "execution_count": null,
   "metadata": {
    "scrolled": true
   },
   "outputs": [],
   "source": [
    "df_merged = df.merge(user_date_ranges_df, how='left', on='user_id')"
   ]
  },
  {
   "cell_type": "code",
   "execution_count": null,
   "metadata": {},
   "outputs": [],
   "source": [
    "df_merged.sample(5)"
   ]
  },
  {
   "cell_type": "code",
   "execution_count": null,
   "metadata": {},
   "outputs": [],
   "source": [
    "df_merged['is_tourist'] = (df_merged['diff'] < pd.Timedelta('14 days'))"
   ]
  },
  {
   "cell_type": "code",
   "execution_count": null,
   "metadata": {},
   "outputs": [],
   "source": [
    "df_tourist = df_merged[df_merged.is_tourist == True]\n",
    "df_not_tourist = df_merged[df_merged.is_tourist == False]"
   ]
  },
  {
   "cell_type": "code",
   "execution_count": null,
   "metadata": {},
   "outputs": [],
   "source": [
    "df_tourist.info()"
   ]
  },
  {
   "cell_type": "code",
   "execution_count": null,
   "metadata": {},
   "outputs": [],
   "source": [
    "# Also create dataset with ENG only for sentiment analysis"
   ]
  },
  {
   "cell_type": "code",
   "execution_count": null,
   "metadata": {},
   "outputs": [],
   "source": [
    "df_tourist_en = df_tourist[df_tourist.language == 'en']"
   ]
  },
  {
   "cell_type": "code",
   "execution_count": null,
   "metadata": {
    "scrolled": true
   },
   "outputs": [],
   "source": [
    "df_tourist_en.info()"
   ]
  },
  {
   "cell_type": "markdown",
   "metadata": {},
   "source": [
    "### Sentiment Analysis"
   ]
  },
  {
   "cell_type": "code",
   "execution_count": null,
   "metadata": {},
   "outputs": [],
   "source": [
    "%%capture\n",
    "analyser = SentimentIntensityAnalyzer()\n",
    "df_tourist_en['neg'], df_tourist_en['neu'], df_tourist_en['pos'], df_tourist_en['compound'] = zip(\n",
    "    *df_tourist_en['tweet_text'].apply(\n",
    "        lambda x: list(analyser.polarity_scores(x).values())\n",
    "    )\n",
    ")"
   ]
  },
  {
   "cell_type": "code",
   "execution_count": null,
   "metadata": {},
   "outputs": [],
   "source": [
    "def get_sentiment_label(compound):\n",
    "    if(compound >= 0.05):\n",
    "        return 'pos'\n",
    "    elif(compound <= -0.05):\n",
    "        return 'neg'\n",
    "    else:\n",
    "        return 'neu'\n",
    "\n",
    "df_tourist_en['polarity'] = df_tourist_en['compound'].apply(lambda x: get_sentiment_label(x))"
   ]
  },
  {
   "cell_type": "code",
   "execution_count": null,
   "metadata": {
    "scrolled": true
   },
   "outputs": [],
   "source": [
    "df_tourist_en.polarity.value_counts()"
   ]
  },
  {
   "cell_type": "code",
   "execution_count": null,
   "metadata": {},
   "outputs": [],
   "source": [
    "df_tourist_en['polarity'].astype(str)"
   ]
  },
  {
   "cell_type": "code",
   "execution_count": null,
   "metadata": {},
   "outputs": [],
   "source": [
    "df_tourist_en['compound'].value_counts()"
   ]
  },
  {
   "cell_type": "code",
   "execution_count": null,
   "metadata": {
    "scrolled": false
   },
   "outputs": [],
   "source": [
    "df_tourist_en.boxplot(column=['compound'], by=['DayOfWeek'], figsize=(15,10))"
   ]
  },
  {
   "cell_type": "code",
   "execution_count": null,
   "metadata": {},
   "outputs": [],
   "source": [
    "boxplot = df_tourist_en.boxplot(column='compound', \n",
    "                     fontsize = 15,grid = True, vert=True,figsize=(10,10,))\n",
    "plt.ylabel('Range')"
   ]
  },
  {
   "cell_type": "code",
   "execution_count": null,
   "metadata": {},
   "outputs": [],
   "source": [
    "df_tourist_en[(df_tourist_en.polarity =='pos')]"
   ]
  },
  {
   "cell_type": "markdown",
   "metadata": {},
   "source": [
    "### Geospatial analysis"
   ]
  },
  {
   "cell_type": "code",
   "execution_count": null,
   "metadata": {
    "scrolled": false
   },
   "outputs": [],
   "source": [
    "df_tourist['type'].fillna(0, inplace=True)\n",
    "gdf = geopandas.GeoDataFrame(\n",
    "    df_tourist, geometry=geopandas.points_from_xy(df_tourist.longitude, df_tourist.latitude))"
   ]
  },
  {
   "cell_type": "code",
   "execution_count": null,
   "metadata": {},
   "outputs": [],
   "source": [
    "gdf.sample(5)"
   ]
  },
  {
   "cell_type": "code",
   "execution_count": null,
   "metadata": {
    "scrolled": true
   },
   "outputs": [],
   "source": [
    "gdf['type'].head(5)"
   ]
  },
  {
   "cell_type": "code",
   "execution_count": null,
   "metadata": {},
   "outputs": [],
   "source": [
    "gdf.crs = {'init' :'epsg:4326'}\n",
    "gdf = gdf.to_crs(epsg=3857)"
   ]
  },
  {
   "cell_type": "code",
   "execution_count": null,
   "metadata": {},
   "outputs": [],
   "source": [
    "gdf.info()"
   ]
  },
  {
   "cell_type": "code",
   "execution_count": null,
   "metadata": {},
   "outputs": [],
   "source": [
    "%%capture\n",
    "# %%capture ignores warnings\n",
    "gdf['Longitude'] = gdf.geometry.apply(lambda pnt: pnt.x)\n",
    "gdf['Latitude'] = gdf.geometry.apply(lambda pnt: pnt.y)"
   ]
  },
  {
   "cell_type": "code",
   "execution_count": null,
   "metadata": {
    "scrolled": true
   },
   "outputs": [],
   "source": [
    "ax = gdf.plot(figsize=(10, 10), alpha=0.5, edgecolor='k')\n",
    "contextily.add_basemap(ax, url=contextily.sources.ST_TERRAIN)"
   ]
  },
  {
   "cell_type": "code",
   "execution_count": null,
   "metadata": {},
   "outputs": [],
   "source": [
    "def plot_map(data):\n",
    "    \"\"\" Takes a GeoPandas.DataFrame as input \"\"\"\n",
    "    fig, ax = plt.subplots(1,1,figsize=(10,10))\n",
    "\n",
    "    n_levels = 1000\n",
    "    alpha_level = 0.5\n",
    "\n",
    "    sns.kdeplot(\n",
    "        data.Longitude, \n",
    "        data.Latitude,\n",
    "        bw = 'scott',\n",
    "        shade=True, \n",
    "        cmap='jet',\n",
    "        kernel='gau',\n",
    "        n_levels=n_levels,\n",
    "        ax = ax,\n",
    "        alpha=alpha_level,\n",
    "        legend = True,\n",
    "        shade_lowest = True\n",
    "        #gridsize = 200\n",
    "    )\n",
    "\n",
    "    for i in range(len(ax.collections)-10):\n",
    "        ax.collections[i].set_alpha(min(i/n_levels, alpha_level))\n",
    "\n",
    "    contextily.add_basemap(ax, url=contextily.sources.ST_TERRAIN)\n",
    "    \n",
    "    #ax.set_ylim(6863000, 6869500)\n",
    "    #ax.set_xlim(541000, 547500)\n",
    "\n",
    "    #plt.axis('off')\n",
    "    return ax"
   ]
  },
  {
   "cell_type": "markdown",
   "metadata": {},
   "source": [
    "### Draw plot by selecting year (no arguments means all)"
   ]
  },
  {
   "cell_type": "code",
   "execution_count": null,
   "metadata": {
    "scrolled": true
   },
   "outputs": [],
   "source": [
    "gdf[gdf.created_at.dt.year == 2018].latitude.value_counts()"
   ]
  },
  {
   "cell_type": "code",
   "execution_count": null,
   "metadata": {
    "scrolled": false
   },
   "outputs": [],
   "source": [
    "gdf[gdf.created_at.dt.year == 2018].longitude.value_counts()"
   ]
  },
  {
   "cell_type": "code",
   "execution_count": null,
   "metadata": {},
   "outputs": [],
   "source": [
    "df['longitude'] = df['longitude'].astype(str)\n",
    "df['latitude'] = df['latitude'].astype(str)\n",
    "df['latandlon'] = df['latitude'] +' '+ df['longitude']"
   ]
  },
  {
   "cell_type": "code",
   "execution_count": null,
   "metadata": {
    "scrolled": false
   },
   "outputs": [],
   "source": [
    "df['latandlon'].value_counts()"
   ]
  },
  {
   "cell_type": "code",
   "execution_count": null,
   "metadata": {},
   "outputs": [],
   "source": [
    "df_checkbot = df[(df.latandlon =='52.3731 4.8922')]"
   ]
  },
  {
   "cell_type": "code",
   "execution_count": null,
   "metadata": {
    "scrolled": true
   },
   "outputs": [],
   "source": [
    "df_checkbot.head(5)"
   ]
  },
  {
   "cell_type": "code",
   "execution_count": null,
   "metadata": {},
   "outputs": [],
   "source": [
    "df_checkbot.tail(5)"
   ]
  },
  {
   "cell_type": "code",
   "execution_count": null,
   "metadata": {},
   "outputs": [],
   "source": [
    "gdf['longitude'] = gdf['longitude'].astype(str)\n",
    "gdf['latitude'] = gdf['latitude'].astype(str)\n",
    "gdf['latandlon'] = gdf['latitude'] +' '+ gdf['longitude']"
   ]
  },
  {
   "cell_type": "code",
   "execution_count": null,
   "metadata": {
    "scrolled": false
   },
   "outputs": [],
   "source": [
    "gdf['latandlon'].value_counts()"
   ]
  },
  {
   "cell_type": "code",
   "execution_count": null,
   "metadata": {},
   "outputs": [],
   "source": [
    "gdf_checkbot = gdf[(gdf.latandlon =='52.3731 4.8922')]"
   ]
  },
  {
   "cell_type": "code",
   "execution_count": null,
   "metadata": {
    "scrolled": true
   },
   "outputs": [],
   "source": [
    "gdf_checkbot.head(6)"
   ]
  },
  {
   "cell_type": "code",
   "execution_count": null,
   "metadata": {},
   "outputs": [],
   "source": [
    "gdf_checkbot.tail(5)"
   ]
  },
  {
   "cell_type": "code",
   "execution_count": null,
   "metadata": {},
   "outputs": [],
   "source": [
    "gdf[gdf.created_at.dt.year == 2012].sqrt_area.value_counts()"
   ]
  },
  {
   "cell_type": "code",
   "execution_count": null,
   "metadata": {
    "scrolled": true
   },
   "outputs": [],
   "source": [
    "#ax = plot_map(gdf)#[gdf.created_at.dt.year == 2012])"
   ]
  },
  {
   "cell_type": "code",
   "execution_count": null,
   "metadata": {},
   "outputs": [],
   "source": [
    "ax = plot_map(gdf[gdf.created_at.dt.year == 2012])"
   ]
  },
  {
   "cell_type": "code",
   "execution_count": null,
   "metadata": {},
   "outputs": [],
   "source": [
    "ax = plot_map(gdf[gdf.created_at.dt.year == 2018])"
   ]
  },
  {
   "cell_type": "markdown",
   "metadata": {},
   "source": [
    "### Select only attachments and plot gdf_attachments"
   ]
  },
  {
   "cell_type": "code",
   "execution_count": null,
   "metadata": {},
   "outputs": [],
   "source": [
    "gdf['type'].value_counts()"
   ]
  },
  {
   "cell_type": "code",
   "execution_count": null,
   "metadata": {},
   "outputs": [],
   "source": [
    "gdf_attachment = gdf.loc[gdf['type'] != 0]"
   ]
  },
  {
   "cell_type": "code",
   "execution_count": null,
   "metadata": {
    "scrolled": false
   },
   "outputs": [],
   "source": [
    "gdf_attachment.info()"
   ]
  },
  {
   "cell_type": "code",
   "execution_count": null,
   "metadata": {},
   "outputs": [],
   "source": [
    "gdf_attachment['type'].head(5)"
   ]
  },
  {
   "cell_type": "code",
   "execution_count": null,
   "metadata": {
    "scrolled": false
   },
   "outputs": [],
   "source": [
    "plot_map(gdf_attachment[gdf_attachment.created_at.dt.year == 2012])"
   ]
  }
 ],
 "metadata": {
  "kernelspec": {
   "display_name": "Python 3",
   "language": "python",
   "name": "python3"
  },
  "language_info": {
   "codemirror_mode": {
    "name": "ipython",
    "version": 3
   },
   "file_extension": ".py",
   "mimetype": "text/x-python",
   "name": "python",
   "nbconvert_exporter": "python",
   "pygments_lexer": "ipython3",
   "version": "3.6.8"
  }
 },
 "nbformat": 4,
 "nbformat_minor": 2
}
